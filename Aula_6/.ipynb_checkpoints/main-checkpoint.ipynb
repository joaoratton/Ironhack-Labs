{
 "cells": [
  {
   "cell_type": "markdown",
   "metadata": {
    "colab_type": "text",
    "id": "-we_8UVrwCc1"
   },
   "source": [
    "# Intrduction to NumPy\n",
    "\n",
    "\n",
    "#### 1. Import NumPy under the name np."
   ]
  },
  {
   "cell_type": "code",
   "execution_count": 3,
   "metadata": {
    "colab": {},
    "colab_type": "code",
    "id": "3fRJ8mtHwCc5"
   },
   "outputs": [],
   "source": [
    "# your code here\n",
    "import numpy as np"
   ]
  },
  {
   "cell_type": "markdown",
   "metadata": {
    "colab_type": "text",
    "id": "8Xtbl_EvwCc9"
   },
   "source": [
    "#### 2. Print your NumPy version."
   ]
  },
  {
   "cell_type": "code",
   "execution_count": 4,
   "metadata": {
    "colab": {},
    "colab_type": "code",
    "id": "BlegxuJVwCc-"
   },
   "outputs": [
    {
     "data": {
      "text/plain": [
       "'1.18.1'"
      ]
     },
     "execution_count": 4,
     "metadata": {},
     "output_type": "execute_result"
    }
   ],
   "source": [
    "# your code here\n",
    "np.__version__"
   ]
  },
  {
   "cell_type": "markdown",
   "metadata": {
    "colab_type": "text",
    "id": "FpKgyatowCdC"
   },
   "source": [
    "#### 3. Generate a 2x3x5 3-dimensional array with random values. Assign the array to variable *a*.\n",
    "**Challenge**: there are at least three easy ways that use numpy to generate random arrays. How many ways can you find?"
   ]
  },
  {
   "cell_type": "code",
   "execution_count": 5,
   "metadata": {
    "colab": {},
    "colab_type": "code",
    "id": "609Z4Zn3wCdD"
   },
   "outputs": [],
   "source": [
    "# Method 1\n",
    "a = np.random.random((2,3,5))"
   ]
  },
  {
   "cell_type": "code",
   "execution_count": 6,
   "metadata": {
    "colab": {},
    "colab_type": "code",
    "id": "q6dKJNO4wCdH"
   },
   "outputs": [
    {
     "data": {
      "text/plain": [
       "array([[[1, 0, 8, 5, 3],\n",
       "        [3, 7, 3, 5, 9],\n",
       "        [7, 7, 5, 3, 5]],\n",
       "\n",
       "       [[7, 4, 6, 9, 9],\n",
       "        [7, 7, 5, 7, 0],\n",
       "        [5, 2, 4, 9, 7]]])"
      ]
     },
     "execution_count": 6,
     "metadata": {},
     "output_type": "execute_result"
    }
   ],
   "source": [
    "# Method 2\n",
    "np.random.randint(0, 10, size=(2,3,5))"
   ]
  },
  {
   "cell_type": "code",
   "execution_count": 7,
   "metadata": {
    "colab": {},
    "colab_type": "code",
    "id": "xILn36GWwCdK"
   },
   "outputs": [
    {
     "data": {
      "text/plain": [
       "array([[[1.28822975e-231, 1.28822975e-231, 7.41098469e-323,\n",
       "         0.00000000e+000, 2.12199579e-314],\n",
       "        [5.02034658e+175, 2.98832386e-032, 2.74198544e-057,\n",
       "         1.84703078e+184, 1.38347753e-047],\n",
       "        [1.47763641e+248, 1.16096346e-028, 7.69165785e+218,\n",
       "         1.35617292e+248, 1.01967469e+166]],\n",
       "\n",
       "       [[2.62090331e+180, 2.12678163e+160, 1.63298378e+185,\n",
       "         4.26582321e-096, 6.32299154e+233],\n",
       "        [6.48224638e+170, 5.22411352e+257, 5.74020278e+180,\n",
       "         8.37174974e-144, 1.41529402e+161],\n",
       "        [6.00736899e-067, 4.09857244e+097, 3.51045284e-033,\n",
       "         4.26327960e+126, 2.08600891e-308]]])"
      ]
     },
     "execution_count": 7,
     "metadata": {},
     "output_type": "execute_result"
    }
   ],
   "source": [
    "# Method 3\n",
    "np.empty((2,3,5))"
   ]
  },
  {
   "cell_type": "markdown",
   "metadata": {
    "colab_type": "text",
    "id": "aMHxBSCDwCdP"
   },
   "source": [
    "#### 4. Print *a*.\n"
   ]
  },
  {
   "cell_type": "code",
   "execution_count": 8,
   "metadata": {
    "colab": {},
    "colab_type": "code",
    "id": "N_NYL3pHwCdQ"
   },
   "outputs": [
    {
     "name": "stdout",
     "output_type": "stream",
     "text": [
      "[[[0.36768209 0.32567525 0.50079517 0.40190154 0.7575898 ]\n",
      "  [0.4237783  0.7927931  0.73128531 0.57264079 0.98141566]\n",
      "  [0.09726173 0.60652106 0.32071822 0.63104136 0.38819836]]\n",
      "\n",
      " [[0.53992123 0.87052298 0.83647133 0.20382982 0.49667289]\n",
      "  [0.4666243  0.16921854 0.29094927 0.7167331  0.22059896]\n",
      "  [0.47203051 0.65382886 0.49814532 0.92023879 0.82784433]]]\n"
     ]
    }
   ],
   "source": [
    "# your code here\n",
    "print(a)"
   ]
  },
  {
   "cell_type": "markdown",
   "metadata": {
    "colab_type": "text",
    "id": "kws-mAPSwCdU"
   },
   "source": [
    "#### 5. Create a 5x2x3 3-dimensional array with all values equaling 1. Assign the array to variable *b*."
   ]
  },
  {
   "cell_type": "code",
   "execution_count": 9,
   "metadata": {
    "colab": {},
    "colab_type": "code",
    "id": "anCmbtrtwCdW"
   },
   "outputs": [],
   "source": [
    "# your code here\n",
    "b = np.ones((5,2,3), dtype='int')"
   ]
  },
  {
   "cell_type": "markdown",
   "metadata": {
    "colab_type": "text",
    "id": "FsYdwPxPwCdZ"
   },
   "source": [
    "#### 6. Print *b*.\n"
   ]
  },
  {
   "cell_type": "code",
   "execution_count": 10,
   "metadata": {
    "colab": {},
    "colab_type": "code",
    "id": "Y3rcPurpwCda"
   },
   "outputs": [
    {
     "name": "stdout",
     "output_type": "stream",
     "text": [
      "[[[1 1 1]\n",
      "  [1 1 1]]\n",
      "\n",
      " [[1 1 1]\n",
      "  [1 1 1]]\n",
      "\n",
      " [[1 1 1]\n",
      "  [1 1 1]]\n",
      "\n",
      " [[1 1 1]\n",
      "  [1 1 1]]\n",
      "\n",
      " [[1 1 1]\n",
      "  [1 1 1]]]\n"
     ]
    }
   ],
   "source": [
    "# your code here\n",
    "print(b)"
   ]
  },
  {
   "cell_type": "markdown",
   "metadata": {
    "colab_type": "text",
    "id": "hGblsnk5wCde"
   },
   "source": [
    "#### 7. Do *a* and *b* have the same size? How do you prove that in Python code?"
   ]
  },
  {
   "cell_type": "code",
   "execution_count": 22,
   "metadata": {
    "colab": {},
    "colab_type": "code",
    "id": "YmKeIpGWwCdf"
   },
   "outputs": [
    {
     "data": {
      "text/plain": [
       "True"
      ]
     },
     "execution_count": 22,
     "metadata": {},
     "output_type": "execute_result"
    }
   ],
   "source": [
    "# your code here\n",
    "a.size == b.size"
   ]
  },
  {
   "cell_type": "markdown",
   "metadata": {
    "colab_type": "text",
    "id": "o9UzXk9IwCdi"
   },
   "source": [
    "#### 8. Are you able to add *a* and *b*? Why or why not?\n"
   ]
  },
  {
   "cell_type": "code",
   "execution_count": 11,
   "metadata": {
    "colab": {},
    "colab_type": "code",
    "id": "drdAyKPywCdj"
   },
   "outputs": [
    {
     "name": "stdout",
     "output_type": "stream",
     "text": [
      "Distinct matrixes can only be added if they have the same order, in this case matrix a is a (2, 3, 5) matrix while b is a (5, 2, 3) matrix.\n"
     ]
    }
   ],
   "source": [
    "# your answer here\n",
    "if a.shape != b.shape:\n",
    "    print('Distinct matrixes can only be added if they have the same order, in this case matrix a is a',a.shape,'matrix while b is a',b.shape,'matrix.')"
   ]
  },
  {
   "cell_type": "markdown",
   "metadata": {
    "colab_type": "text",
    "id": "DTsSOpvYwCdm"
   },
   "source": [
    "#### 9. Reshape *b* so that it has the same structure of *a* (i.e. become a 2x3x5 array). Assign the reshaped array to variable *c*."
   ]
  },
  {
   "cell_type": "code",
   "execution_count": 12,
   "metadata": {
    "colab": {},
    "colab_type": "code",
    "id": "DjLlRJUtwCdn"
   },
   "outputs": [
    {
     "data": {
      "text/plain": [
       "array([[[1, 1, 1, 1, 1],\n",
       "        [1, 1, 1, 1, 1],\n",
       "        [1, 1, 1, 1, 1]],\n",
       "\n",
       "       [[1, 1, 1, 1, 1],\n",
       "        [1, 1, 1, 1, 1],\n",
       "        [1, 1, 1, 1, 1]]])"
      ]
     },
     "execution_count": 12,
     "metadata": {},
     "output_type": "execute_result"
    }
   ],
   "source": [
    "# your code here\n",
    "c = b.reshape(2,3,5)\n",
    "c"
   ]
  },
  {
   "cell_type": "markdown",
   "metadata": {
    "colab_type": "text",
    "id": "fvHocQ9EwCdq"
   },
   "source": [
    "#### 10. Try to add *a* and *c*. Now it should work. Assign the sum to variable *d*. But why does it work now?"
   ]
  },
  {
   "cell_type": "code",
   "execution_count": 13,
   "metadata": {
    "colab": {},
    "colab_type": "code",
    "id": "Ohf5yh5ZwCdr"
   },
   "outputs": [
    {
     "name": "stdout",
     "output_type": "stream",
     "text": [
      "[[[1.36768209 1.32567525 1.50079517 1.40190154 1.7575898 ]\n",
      "  [1.4237783  1.7927931  1.73128531 1.57264079 1.98141566]\n",
      "  [1.09726173 1.60652106 1.32071822 1.63104136 1.38819836]]\n",
      "\n",
      " [[1.53992123 1.87052298 1.83647133 1.20382982 1.49667289]\n",
      "  [1.4666243  1.16921854 1.29094927 1.7167331  1.22059896]\n",
      "  [1.47203051 1.65382886 1.49814532 1.92023879 1.82784433]]]\n",
      "Both matrixes have the same order, meaning that performing an addition each element of a matrix will be summed with the corresponding element in c matrix.\n"
     ]
    }
   ],
   "source": [
    "# your code/answer here\n",
    "d = a + c\n",
    "print(d)\n",
    "\n",
    "print('Both matrixes have the same order, meaning that performing an addition each element of a matrix will be summed with the corresponding element in c matrix.')"
   ]
  },
  {
   "cell_type": "markdown",
   "metadata": {
    "colab_type": "text",
    "id": "DuQBMzQBwCdw"
   },
   "source": [
    "#### 11. Print *a* and *d*. Notice the difference and relation of the two array in terms of the values? Explain."
   ]
  },
  {
   "cell_type": "code",
   "execution_count": 14,
   "metadata": {
    "colab": {},
    "colab_type": "code",
    "id": "gEuh7iv1wCdx"
   },
   "outputs": [
    {
     "name": "stdout",
     "output_type": "stream",
     "text": [
      "[[[0.36768209 0.32567525 0.50079517 0.40190154 0.7575898 ]\n",
      "  [0.4237783  0.7927931  0.73128531 0.57264079 0.98141566]\n",
      "  [0.09726173 0.60652106 0.32071822 0.63104136 0.38819836]]\n",
      "\n",
      " [[0.53992123 0.87052298 0.83647133 0.20382982 0.49667289]\n",
      "  [0.4666243  0.16921854 0.29094927 0.7167331  0.22059896]\n",
      "  [0.47203051 0.65382886 0.49814532 0.92023879 0.82784433]]]\n",
      "[[[1.36768209 1.32567525 1.50079517 1.40190154 1.7575898 ]\n",
      "  [1.4237783  1.7927931  1.73128531 1.57264079 1.98141566]\n",
      "  [1.09726173 1.60652106 1.32071822 1.63104136 1.38819836]]\n",
      "\n",
      " [[1.53992123 1.87052298 1.83647133 1.20382982 1.49667289]\n",
      "  [1.4666243  1.16921854 1.29094927 1.7167331  1.22059896]\n",
      "  [1.47203051 1.65382886 1.49814532 1.92023879 1.82784433]]]\n"
     ]
    }
   ],
   "source": [
    "# your code/answer here\n",
    "\n",
    "print(a)\n",
    "print(d)\n",
    "\n"
   ]
  },
  {
   "cell_type": "markdown",
   "metadata": {
    "colab_type": "text",
    "id": "Ka1popJ3wCd0"
   },
   "source": [
    "#### 12. Multiply *a* and *c*. Assign the result to *e*."
   ]
  },
  {
   "cell_type": "code",
   "execution_count": 15,
   "metadata": {
    "colab": {},
    "colab_type": "code",
    "id": "hLeCMiSEwCd1"
   },
   "outputs": [
    {
     "data": {
      "text/plain": [
       "array([[[0.36768209, 0.32567525, 0.50079517, 0.40190154, 0.7575898 ],\n",
       "        [0.4237783 , 0.7927931 , 0.73128531, 0.57264079, 0.98141566],\n",
       "        [0.09726173, 0.60652106, 0.32071822, 0.63104136, 0.38819836]],\n",
       "\n",
       "       [[0.53992123, 0.87052298, 0.83647133, 0.20382982, 0.49667289],\n",
       "        [0.4666243 , 0.16921854, 0.29094927, 0.7167331 , 0.22059896],\n",
       "        [0.47203051, 0.65382886, 0.49814532, 0.92023879, 0.82784433]]])"
      ]
     },
     "execution_count": 15,
     "metadata": {},
     "output_type": "execute_result"
    }
   ],
   "source": [
    "# your code here\n",
    "e = a * c\n",
    "e"
   ]
  },
  {
   "cell_type": "markdown",
   "metadata": {
    "colab_type": "text",
    "id": "1QCqP6lMwCd5"
   },
   "source": [
    "#### 13. Does *e* equal to *a*? Why or why not?\n"
   ]
  },
  {
   "cell_type": "code",
   "execution_count": 16,
   "metadata": {
    "colab": {},
    "colab_type": "code",
    "id": "oxoat0cbwCd6"
   },
   "outputs": [],
   "source": [
    "# your code/answer here\n",
    "e = a"
   ]
  },
  {
   "cell_type": "markdown",
   "metadata": {
    "colab_type": "text",
    "id": "b7ceZMcswCd9"
   },
   "source": [
    "#### 14. Identify the max, min, and mean values in *d*. Assign those values to variables *d_max*, *d_min* and *d_mean*."
   ]
  },
  {
   "cell_type": "code",
   "execution_count": 17,
   "metadata": {
    "colab": {},
    "colab_type": "code",
    "id": "ljd7J4ucwCd-"
   },
   "outputs": [],
   "source": [
    "# your code here\n",
    "\n",
    "d_max = d.max()\n",
    "d_min = d.min()\n",
    "d_mean = d.mean()"
   ]
  },
  {
   "cell_type": "markdown",
   "metadata": {
    "colab_type": "text",
    "id": "bBmZ1bg3wCeC"
   },
   "source": [
    "#### 15. Now we want to label the values in *d*. First create an empty array *f* with the same shape (i.e. 2x3x5) as *d* using `np.empty`.\n"
   ]
  },
  {
   "cell_type": "code",
   "execution_count": 18,
   "metadata": {
    "colab": {},
    "colab_type": "code",
    "id": "GVU7znV7wCeD"
   },
   "outputs": [],
   "source": [
    "# your code here\n",
    "f = np.empty(d.shape)"
   ]
  },
  {
   "cell_type": "markdown",
   "metadata": {
    "colab_type": "text",
    "id": "cwZMaPTawCeG"
   },
   "source": [
    "#### 16. Populate the values in *f*. \n",
    "\n",
    "For each value in *d*, if it's larger than *d_min* but smaller than *d_mean*, assign 25 to the corresponding value in *f*. If a value in *d* is larger than *d_mean* but smaller than *d_max*, assign 75 to the corresponding value in *f*. If a value equals to *d_mean*, assign 50 to the corresponding value in *f*. Assign 0 to the corresponding value(s) in *f* for *d_min* in *d*. Assign 100 to the corresponding value(s) in *f* for *d_max* in *d*. In the end, f should have only the following values: 0, 25, 50, 75, and 100.\n",
    "\n",
    "**Note**: you don't have to use Numpy in this question."
   ]
  },
  {
   "cell_type": "code",
   "execution_count": 25,
   "metadata": {},
   "outputs": [
    {
     "data": {
      "text/plain": [
       "array([[[ 1.36768209,  1.32567525,  1.50079517,  1.40190154,\n",
       "          1.7575898 ],\n",
       "        [ 1.4237783 ,  1.7927931 ,  1.73128531,  1.57264079,\n",
       "          1.98141566],\n",
       "        [ 1.09726173,  1.60652106,  1.32071822,  1.63104136,\n",
       "          1.38819836]],\n",
       "\n",
       "       [[ 1.53992123,  1.87052298,  1.83647133,  1.20382982,\n",
       "          1.49667289],\n",
       "        [ 1.4666243 ,  1.16921854,  1.29094927,  1.7167331 ,\n",
       "          1.22059896],\n",
       "        [ 1.47203051,  1.65382886,  1.49814532,  1.92023879,\n",
       "         88.        ]]])"
      ]
     },
     "execution_count": 25,
     "metadata": {},
     "output_type": "execute_result"
    }
   ],
   "source": [
    "d"
   ]
  },
  {
   "cell_type": "code",
   "execution_count": 21,
   "metadata": {},
   "outputs": [],
   "source": [
    "d[1][2][4] = 88"
   ]
  },
  {
   "cell_type": "code",
   "execution_count": 27,
   "metadata": {
    "colab": {},
    "colab_type": "code",
    "id": "He3bA8_vwCeI"
   },
   "outputs": [
    {
     "name": "stdout",
     "output_type": "stream",
     "text": [
      "2 3\n",
      "2 3\n",
      "2 3\n",
      "2 3\n",
      "2 3\n",
      "2 3\n"
     ]
    }
   ],
   "source": [
    "# your code here\n",
    "\n",
    "nrows = d.shape[0]\n",
    "ncolums = d.shape[1]\n",
    "\n",
    "for i in range(nrows):\n",
    "    for x in range(ncolums):\n",
    "        print(nrows,ncolums)\n",
    "        #if x > d_min and c < d_mean:\n",
    "            #f[nrows,ncolums] = 25\n",
    "        #elif x > d_mean and c < d_max:\n",
    "            #f[nrows,ncolums] = 75\n",
    "        #elif x == d_mean:\n",
    "            #f[nrows,ncolums] = 50\n",
    "        #elif x == d_min:\n",
    "            #f[nrows,ncolums] = 0\n",
    "        #elif x == d_max:\n",
    "            #f[nrows,ncolums] = 100\n"
   ]
  },
  {
   "cell_type": "markdown",
   "metadata": {
    "colab_type": "text",
    "id": "DtXatajMwCeM"
   },
   "source": [
    "#### 17. Print *d* and *f*. Do you have your expected *f*?\n",
    "For instance, if your *d* is:\n",
    "```python\n",
    "[[[1.85836099, 1.67064465, 1.62576044, 1.40243961, 1.88454931],\n",
    "[1.75354326, 1.69403643, 1.36729252, 1.61415071, 1.12104981],\n",
    "[1.72201435, 1.1862918 , 1.87078449, 1.7726778 , 1.88180042]],\n",
    "[[1.44747908, 1.31673383, 1.02000951, 1.52218947, 1.97066381],\n",
    "[1.79129243, 1.74983003, 1.96028037, 1.85166831, 1.65450881],\n",
    "[1.18068344, 1.9587381 , 1.00656599, 1.93402165, 1.73514584]]]\n",
    "```\n",
    "Your *f* should be:\n",
    "```python\n",
    "[[[ 75.,  75.,  75.,  25.,  75.],\n",
    "[ 75.,  75.,  25.,  25.,  25.],\n",
    "[ 75.,  25.,  75.,  75.,  75.]],\n",
    "[[ 25.,  25.,  25.,  25., 100.],\n",
    "[ 75.,  75.,  75.,  75.,  75.],\n",
    "[ 25.,  75.,   0.,  75.,  75.]]]\n",
    "```"
   ]
  },
  {
   "cell_type": "code",
   "execution_count": 0,
   "metadata": {
    "colab": {},
    "colab_type": "code",
    "id": "wvC83zaUwCeN"
   },
   "outputs": [],
   "source": [
    "# your code here"
   ]
  },
  {
   "cell_type": "markdown",
   "metadata": {
    "colab_type": "text",
    "id": "ppRoFFJBwCeS"
   },
   "source": [
    "#### 18. Bonus question: instead of using numbers (i.e. 0, 25, 50, 75, and 100), use string values  (\"A\", \"B\", \"C\", \"D\", and \"E\") to label the array elements. For the example above, the expected result is:\n",
    "\n",
    "```python\n",
    "[[[ 'D',  'D',  'D',  'B',  'D'],\n",
    "[ 'D',  'D',  'B',  'B',  'B'],\n",
    "[ 'D',  'B',  'D',  'D',  'D']],\n",
    "[[ 'B',  'B',  'B',  'B',  'E'],\n",
    "[ 'D',  'D',  'D',  'D',  'D'],\n",
    "[ 'B',  'D',   'A',  'D', 'D']]]\n",
    "```\n",
    "**Note**: you don't have to use Numpy in this question."
   ]
  },
  {
   "cell_type": "code",
   "execution_count": 0,
   "metadata": {
    "colab": {},
    "colab_type": "code",
    "id": "xbBNSrnCwCeU"
   },
   "outputs": [],
   "source": [
    "# your code here"
   ]
  }
 ],
 "metadata": {
  "colab": {
   "name": "main.ipynb",
   "provenance": []
  },
  "kernelspec": {
   "display_name": "Python 3",
   "language": "python",
   "name": "python3"
  },
  "language_info": {
   "codemirror_mode": {
    "name": "ipython",
    "version": 3
   },
   "file_extension": ".py",
   "mimetype": "text/x-python",
   "name": "python",
   "nbconvert_exporter": "python",
   "pygments_lexer": "ipython3",
   "version": "3.7.6"
  },
  "toc": {
   "base_numbering": 1,
   "nav_menu": {},
   "number_sections": true,
   "sideBar": true,
   "skip_h1_title": false,
   "title_cell": "Table of Contents",
   "title_sidebar": "Contents",
   "toc_cell": false,
   "toc_position": {},
   "toc_section_display": true,
   "toc_window_display": false
  },
  "varInspector": {
   "cols": {
    "lenName": 16,
    "lenType": 16,
    "lenVar": 40
   },
   "kernels_config": {
    "python": {
     "delete_cmd_postfix": "",
     "delete_cmd_prefix": "del ",
     "library": "var_list.py",
     "varRefreshCmd": "print(var_dic_list())"
    },
    "r": {
     "delete_cmd_postfix": ") ",
     "delete_cmd_prefix": "rm(",
     "library": "var_list.r",
     "varRefreshCmd": "cat(var_dic_list()) "
    }
   },
   "types_to_exclude": [
    "module",
    "function",
    "builtin_function_or_method",
    "instance",
    "_Feature"
   ],
   "window_display": false
  }
 },
 "nbformat": 4,
 "nbformat_minor": 1
}
