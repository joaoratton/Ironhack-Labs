{
 "cells": [
  {
   "cell_type": "markdown",
   "metadata": {},
   "source": [
    "# Unsupervised Learning - Segmentation\n",
    "## Dataset: Fifa 19\n",
    "#### source:\n",
    "https://www.kaggle.com/karangadiya/fifa19"
   ]
  },
  {
   "cell_type": "markdown",
   "metadata": {},
   "source": [
    "#### Reading File"
   ]
  },
  {
   "cell_type": "code",
   "execution_count": 1,
   "metadata": {},
   "outputs": [],
   "source": [
    "import pandas as pd\n",
    "data = pd.read_csv('../Data/fifa19.csv')"
   ]
  },
  {
   "cell_type": "code",
   "execution_count": 3,
   "metadata": {},
   "outputs": [
    {
     "data": {
      "text/plain": [
       "(18207, 89)"
      ]
     },
     "execution_count": 3,
     "metadata": {},
     "output_type": "execute_result"
    }
   ],
   "source": [
    "data.shape"
   ]
  },
  {
   "cell_type": "code",
   "execution_count": 2,
   "metadata": {},
   "outputs": [
    {
     "data": {
      "text/html": [
       "<div>\n",
       "<style scoped>\n",
       "    .dataframe tbody tr th:only-of-type {\n",
       "        vertical-align: middle;\n",
       "    }\n",
       "\n",
       "    .dataframe tbody tr th {\n",
       "        vertical-align: top;\n",
       "    }\n",
       "\n",
       "    .dataframe thead th {\n",
       "        text-align: right;\n",
       "    }\n",
       "</style>\n",
       "<table border=\"1\" class=\"dataframe\">\n",
       "  <thead>\n",
       "    <tr style=\"text-align: right;\">\n",
       "      <th></th>\n",
       "      <th>Unnamed: 0</th>\n",
       "      <th>ID</th>\n",
       "      <th>Name</th>\n",
       "      <th>Age</th>\n",
       "      <th>Photo</th>\n",
       "      <th>Nationality</th>\n",
       "      <th>Flag</th>\n",
       "      <th>Overall</th>\n",
       "      <th>Potential</th>\n",
       "      <th>Club</th>\n",
       "      <th>...</th>\n",
       "      <th>Composure</th>\n",
       "      <th>Marking</th>\n",
       "      <th>StandingTackle</th>\n",
       "      <th>SlidingTackle</th>\n",
       "      <th>GKDiving</th>\n",
       "      <th>GKHandling</th>\n",
       "      <th>GKKicking</th>\n",
       "      <th>GKPositioning</th>\n",
       "      <th>GKReflexes</th>\n",
       "      <th>Release Clause</th>\n",
       "    </tr>\n",
       "  </thead>\n",
       "  <tbody>\n",
       "    <tr>\n",
       "      <th>0</th>\n",
       "      <td>0</td>\n",
       "      <td>158023</td>\n",
       "      <td>L. Messi</td>\n",
       "      <td>31</td>\n",
       "      <td>https://cdn.sofifa.org/players/4/19/158023.png</td>\n",
       "      <td>Argentina</td>\n",
       "      <td>https://cdn.sofifa.org/flags/52.png</td>\n",
       "      <td>94</td>\n",
       "      <td>94</td>\n",
       "      <td>FC Barcelona</td>\n",
       "      <td>...</td>\n",
       "      <td>96.0</td>\n",
       "      <td>33.0</td>\n",
       "      <td>28.0</td>\n",
       "      <td>26.0</td>\n",
       "      <td>6.0</td>\n",
       "      <td>11.0</td>\n",
       "      <td>15.0</td>\n",
       "      <td>14.0</td>\n",
       "      <td>8.0</td>\n",
       "      <td>€226.5M</td>\n",
       "    </tr>\n",
       "    <tr>\n",
       "      <th>1</th>\n",
       "      <td>1</td>\n",
       "      <td>20801</td>\n",
       "      <td>Cristiano Ronaldo</td>\n",
       "      <td>33</td>\n",
       "      <td>https://cdn.sofifa.org/players/4/19/20801.png</td>\n",
       "      <td>Portugal</td>\n",
       "      <td>https://cdn.sofifa.org/flags/38.png</td>\n",
       "      <td>94</td>\n",
       "      <td>94</td>\n",
       "      <td>Juventus</td>\n",
       "      <td>...</td>\n",
       "      <td>95.0</td>\n",
       "      <td>28.0</td>\n",
       "      <td>31.0</td>\n",
       "      <td>23.0</td>\n",
       "      <td>7.0</td>\n",
       "      <td>11.0</td>\n",
       "      <td>15.0</td>\n",
       "      <td>14.0</td>\n",
       "      <td>11.0</td>\n",
       "      <td>€127.1M</td>\n",
       "    </tr>\n",
       "    <tr>\n",
       "      <th>2</th>\n",
       "      <td>2</td>\n",
       "      <td>190871</td>\n",
       "      <td>Neymar Jr</td>\n",
       "      <td>26</td>\n",
       "      <td>https://cdn.sofifa.org/players/4/19/190871.png</td>\n",
       "      <td>Brazil</td>\n",
       "      <td>https://cdn.sofifa.org/flags/54.png</td>\n",
       "      <td>92</td>\n",
       "      <td>93</td>\n",
       "      <td>Paris Saint-Germain</td>\n",
       "      <td>...</td>\n",
       "      <td>94.0</td>\n",
       "      <td>27.0</td>\n",
       "      <td>24.0</td>\n",
       "      <td>33.0</td>\n",
       "      <td>9.0</td>\n",
       "      <td>9.0</td>\n",
       "      <td>15.0</td>\n",
       "      <td>15.0</td>\n",
       "      <td>11.0</td>\n",
       "      <td>€228.1M</td>\n",
       "    </tr>\n",
       "    <tr>\n",
       "      <th>3</th>\n",
       "      <td>3</td>\n",
       "      <td>193080</td>\n",
       "      <td>De Gea</td>\n",
       "      <td>27</td>\n",
       "      <td>https://cdn.sofifa.org/players/4/19/193080.png</td>\n",
       "      <td>Spain</td>\n",
       "      <td>https://cdn.sofifa.org/flags/45.png</td>\n",
       "      <td>91</td>\n",
       "      <td>93</td>\n",
       "      <td>Manchester United</td>\n",
       "      <td>...</td>\n",
       "      <td>68.0</td>\n",
       "      <td>15.0</td>\n",
       "      <td>21.0</td>\n",
       "      <td>13.0</td>\n",
       "      <td>90.0</td>\n",
       "      <td>85.0</td>\n",
       "      <td>87.0</td>\n",
       "      <td>88.0</td>\n",
       "      <td>94.0</td>\n",
       "      <td>€138.6M</td>\n",
       "    </tr>\n",
       "    <tr>\n",
       "      <th>4</th>\n",
       "      <td>4</td>\n",
       "      <td>192985</td>\n",
       "      <td>K. De Bruyne</td>\n",
       "      <td>27</td>\n",
       "      <td>https://cdn.sofifa.org/players/4/19/192985.png</td>\n",
       "      <td>Belgium</td>\n",
       "      <td>https://cdn.sofifa.org/flags/7.png</td>\n",
       "      <td>91</td>\n",
       "      <td>92</td>\n",
       "      <td>Manchester City</td>\n",
       "      <td>...</td>\n",
       "      <td>88.0</td>\n",
       "      <td>68.0</td>\n",
       "      <td>58.0</td>\n",
       "      <td>51.0</td>\n",
       "      <td>15.0</td>\n",
       "      <td>13.0</td>\n",
       "      <td>5.0</td>\n",
       "      <td>10.0</td>\n",
       "      <td>13.0</td>\n",
       "      <td>€196.4M</td>\n",
       "    </tr>\n",
       "  </tbody>\n",
       "</table>\n",
       "<p>5 rows × 89 columns</p>\n",
       "</div>"
      ],
      "text/plain": [
       "   Unnamed: 0      ID               Name  Age  \\\n",
       "0           0  158023           L. Messi   31   \n",
       "1           1   20801  Cristiano Ronaldo   33   \n",
       "2           2  190871          Neymar Jr   26   \n",
       "3           3  193080             De Gea   27   \n",
       "4           4  192985       K. De Bruyne   27   \n",
       "\n",
       "                                            Photo Nationality  \\\n",
       "0  https://cdn.sofifa.org/players/4/19/158023.png   Argentina   \n",
       "1   https://cdn.sofifa.org/players/4/19/20801.png    Portugal   \n",
       "2  https://cdn.sofifa.org/players/4/19/190871.png      Brazil   \n",
       "3  https://cdn.sofifa.org/players/4/19/193080.png       Spain   \n",
       "4  https://cdn.sofifa.org/players/4/19/192985.png     Belgium   \n",
       "\n",
       "                                  Flag  Overall  Potential  \\\n",
       "0  https://cdn.sofifa.org/flags/52.png       94         94   \n",
       "1  https://cdn.sofifa.org/flags/38.png       94         94   \n",
       "2  https://cdn.sofifa.org/flags/54.png       92         93   \n",
       "3  https://cdn.sofifa.org/flags/45.png       91         93   \n",
       "4   https://cdn.sofifa.org/flags/7.png       91         92   \n",
       "\n",
       "                  Club  ... Composure Marking StandingTackle  SlidingTackle  \\\n",
       "0         FC Barcelona  ...      96.0    33.0           28.0           26.0   \n",
       "1             Juventus  ...      95.0    28.0           31.0           23.0   \n",
       "2  Paris Saint-Germain  ...      94.0    27.0           24.0           33.0   \n",
       "3    Manchester United  ...      68.0    15.0           21.0           13.0   \n",
       "4      Manchester City  ...      88.0    68.0           58.0           51.0   \n",
       "\n",
       "  GKDiving  GKHandling  GKKicking  GKPositioning GKReflexes Release Clause  \n",
       "0      6.0        11.0       15.0           14.0        8.0        €226.5M  \n",
       "1      7.0        11.0       15.0           14.0       11.0        €127.1M  \n",
       "2      9.0         9.0       15.0           15.0       11.0        €228.1M  \n",
       "3     90.0        85.0       87.0           88.0       94.0        €138.6M  \n",
       "4     15.0        13.0        5.0           10.0       13.0        €196.4M  \n",
       "\n",
       "[5 rows x 89 columns]"
      ]
     },
     "execution_count": 2,
     "metadata": {},
     "output_type": "execute_result"
    }
   ],
   "source": [
    "data.head()"
   ]
  },
  {
   "cell_type": "code",
   "execution_count": 4,
   "metadata": {},
   "outputs": [
    {
     "name": "stdout",
     "output_type": "stream",
     "text": [
      "<class 'pandas.core.frame.DataFrame'>\n",
      "RangeIndex: 18207 entries, 0 to 18206\n",
      "Data columns (total 89 columns):\n",
      "Unnamed: 0                  18207 non-null int64\n",
      "ID                          18207 non-null int64\n",
      "Name                        18207 non-null object\n",
      "Age                         18207 non-null int64\n",
      "Photo                       18207 non-null object\n",
      "Nationality                 18207 non-null object\n",
      "Flag                        18207 non-null object\n",
      "Overall                     18207 non-null int64\n",
      "Potential                   18207 non-null int64\n",
      "Club                        17966 non-null object\n",
      "Club Logo                   18207 non-null object\n",
      "Value                       18207 non-null object\n",
      "Wage                        18207 non-null object\n",
      "Special                     18207 non-null int64\n",
      "Preferred Foot              18159 non-null object\n",
      "International Reputation    18159 non-null float64\n",
      "Weak Foot                   18159 non-null float64\n",
      "Skill Moves                 18159 non-null float64\n",
      "Work Rate                   18159 non-null object\n",
      "Body Type                   18159 non-null object\n",
      "Real Face                   18159 non-null object\n",
      "Position                    18147 non-null object\n",
      "Jersey Number               18147 non-null float64\n",
      "Joined                      16654 non-null object\n",
      "Loaned From                 1264 non-null object\n",
      "Contract Valid Until        17918 non-null object\n",
      "Height                      18159 non-null object\n",
      "Weight                      18159 non-null object\n",
      "LS                          16122 non-null object\n",
      "ST                          16122 non-null object\n",
      "RS                          16122 non-null object\n",
      "LW                          16122 non-null object\n",
      "LF                          16122 non-null object\n",
      "CF                          16122 non-null object\n",
      "RF                          16122 non-null object\n",
      "RW                          16122 non-null object\n",
      "LAM                         16122 non-null object\n",
      "CAM                         16122 non-null object\n",
      "RAM                         16122 non-null object\n",
      "LM                          16122 non-null object\n",
      "LCM                         16122 non-null object\n",
      "CM                          16122 non-null object\n",
      "RCM                         16122 non-null object\n",
      "RM                          16122 non-null object\n",
      "LWB                         16122 non-null object\n",
      "LDM                         16122 non-null object\n",
      "CDM                         16122 non-null object\n",
      "RDM                         16122 non-null object\n",
      "RWB                         16122 non-null object\n",
      "LB                          16122 non-null object\n",
      "LCB                         16122 non-null object\n",
      "CB                          16122 non-null object\n",
      "RCB                         16122 non-null object\n",
      "RB                          16122 non-null object\n",
      "Crossing                    18159 non-null float64\n",
      "Finishing                   18159 non-null float64\n",
      "HeadingAccuracy             18159 non-null float64\n",
      "ShortPassing                18159 non-null float64\n",
      "Volleys                     18159 non-null float64\n",
      "Dribbling                   18159 non-null float64\n",
      "Curve                       18159 non-null float64\n",
      "FKAccuracy                  18159 non-null float64\n",
      "LongPassing                 18159 non-null float64\n",
      "BallControl                 18159 non-null float64\n",
      "Acceleration                18159 non-null float64\n",
      "SprintSpeed                 18159 non-null float64\n",
      "Agility                     18159 non-null float64\n",
      "Reactions                   18159 non-null float64\n",
      "Balance                     18159 non-null float64\n",
      "ShotPower                   18159 non-null float64\n",
      "Jumping                     18159 non-null float64\n",
      "Stamina                     18159 non-null float64\n",
      "Strength                    18159 non-null float64\n",
      "LongShots                   18159 non-null float64\n",
      "Aggression                  18159 non-null float64\n",
      "Interceptions               18159 non-null float64\n",
      "Positioning                 18159 non-null float64\n",
      "Vision                      18159 non-null float64\n",
      "Penalties                   18159 non-null float64\n",
      "Composure                   18159 non-null float64\n",
      "Marking                     18159 non-null float64\n",
      "StandingTackle              18159 non-null float64\n",
      "SlidingTackle               18159 non-null float64\n",
      "GKDiving                    18159 non-null float64\n",
      "GKHandling                  18159 non-null float64\n",
      "GKKicking                   18159 non-null float64\n",
      "GKPositioning               18159 non-null float64\n",
      "GKReflexes                  18159 non-null float64\n",
      "Release Clause              16643 non-null object\n",
      "dtypes: float64(38), int64(6), object(45)\n",
      "memory usage: 12.4+ MB\n"
     ]
    }
   ],
   "source": [
    "data.info()"
   ]
  },
  {
   "cell_type": "code",
   "execution_count": 14,
   "metadata": {},
   "outputs": [],
   "source": [
    "drop_columns = [\n",
    "                'Unnamed: 0','Photo', 'Flag', 'Club Logo', \n",
    "                'Body Type', 'Real Face', 'Jersey Number', \n",
    "                'Joined', 'Loaned From', 'Work Rate', \n",
    "                'Contract Valid Until'\n",
    "                ]"
   ]
  },
  {
   "cell_type": "code",
   "execution_count": 15,
   "metadata": {},
   "outputs": [],
   "source": [
    "data = data.drop(columns=drop_columns)"
   ]
  },
  {
   "cell_type": "code",
   "execution_count": 19,
   "metadata": {},
   "outputs": [
    {
     "name": "stdout",
     "output_type": "stream",
     "text": [
      "Club                         241\n",
      "Preferred Foot                48\n",
      "International Reputation      48\n",
      "Weak Foot                     48\n",
      "Skill Moves                   48\n",
      "Position                      60\n",
      "Height                        48\n",
      "Weight                        48\n",
      "LS                          2085\n",
      "ST                          2085\n",
      "RS                          2085\n",
      "LW                          2085\n",
      "LF                          2085\n",
      "CF                          2085\n",
      "RF                          2085\n",
      "RW                          2085\n",
      "LAM                         2085\n",
      "CAM                         2085\n",
      "RAM                         2085\n",
      "LM                          2085\n",
      "LCM                         2085\n",
      "CM                          2085\n",
      "RCM                         2085\n",
      "RM                          2085\n",
      "LWB                         2085\n",
      "LDM                         2085\n",
      "CDM                         2085\n",
      "RDM                         2085\n",
      "RWB                         2085\n",
      "LB                          2085\n",
      "LCB                         2085\n",
      "CB                          2085\n",
      "RCB                         2085\n",
      "RB                          2085\n",
      "Crossing                      48\n",
      "Finishing                     48\n",
      "HeadingAccuracy               48\n",
      "ShortPassing                  48\n",
      "Volleys                       48\n",
      "Dribbling                     48\n",
      "Curve                         48\n",
      "FKAccuracy                    48\n",
      "LongPassing                   48\n",
      "BallControl                   48\n",
      "Acceleration                  48\n",
      "SprintSpeed                   48\n",
      "Agility                       48\n",
      "Reactions                     48\n",
      "Balance                       48\n",
      "ShotPower                     48\n",
      "Jumping                       48\n",
      "Stamina                       48\n",
      "Strength                      48\n",
      "LongShots                     48\n",
      "Aggression                    48\n",
      "Interceptions                 48\n",
      "Positioning                   48\n",
      "Vision                        48\n",
      "Penalties                     48\n",
      "Composure                     48\n",
      "Marking                       48\n",
      "StandingTackle                48\n",
      "SlidingTackle                 48\n",
      "GKDiving                      48\n",
      "GKHandling                    48\n",
      "GKKicking                     48\n",
      "GKPositioning                 48\n",
      "GKReflexes                    48\n",
      "Release Clause              1564\n",
      "dtype: int64\n"
     ]
    }
   ],
   "source": [
    "nulls = data.isnull().sum().loc[lambda x: x > 0]\n",
    "with pd.option_context('display.max_rows', 999):\n",
    "    print(nulls)"
   ]
  },
  {
   "cell_type": "code",
   "execution_count": 20,
   "metadata": {},
   "outputs": [],
   "source": [
    "mask = data.query('Position != Position')\n",
    "data.drop(mask.index, axis=0, inplace=True)"
   ]
  },
  {
   "cell_type": "markdown",
   "metadata": {},
   "source": [
    "GK -> 1\n",
    "DF -> 2\n",
    "WB -> 3\n",
    "DMF -> 4\n",
    "MF -> 5\n",
    "FW -> 6"
   ]
  },
  {
   "cell_type": "code",
   "execution_count": 21,
   "metadata": {},
   "outputs": [],
   "source": [
    "pos_simp = [6, 5, 4, 3, 2, 1]\n",
    "pos_comp = [\n",
    "            ['RF', 'ST', 'LW', 'LF', 'RS', 'LS', 'RW', 'CF'], \n",
    "            ['RCM', 'LCM', 'CAM', 'RM', 'LAM', 'LM', 'CM', 'RAM'],\n",
    "            ['LDM', 'CDM', 'RDM'],\n",
    "            ['RCB', 'CB', 'LCB', 'LB'],\n",
    "            ['RB', 'RWB', 'LWB'],\n",
    "            ['GK']\n",
    "            ]"
   ]
  },
  {
   "cell_type": "code",
   "execution_count": 22,
   "metadata": {},
   "outputs": [],
   "source": [
    "pos_dict = dict(zip(pos_simp, pos_comp))"
   ]
  },
  {
   "cell_type": "code",
   "execution_count": 23,
   "metadata": {},
   "outputs": [
    {
     "data": {
      "text/plain": [
       "{6: ['RF', 'ST', 'LW', 'LF', 'RS', 'LS', 'RW', 'CF'],\n",
       " 5: ['RCM', 'LCM', 'CAM', 'RM', 'LAM', 'LM', 'CM', 'RAM'],\n",
       " 4: ['LDM', 'CDM', 'RDM'],\n",
       " 3: ['RCB', 'CB', 'LCB', 'LB'],\n",
       " 2: ['RB', 'RWB', 'LWB'],\n",
       " 1: ['GK']}"
      ]
     },
     "execution_count": 23,
     "metadata": {},
     "output_type": "execute_result"
    }
   ],
   "source": [
    "pos_dict"
   ]
  },
  {
   "cell_type": "code",
   "execution_count": 24,
   "metadata": {},
   "outputs": [],
   "source": [
    "def getkey(x):\n",
    "    for i in range(len(list(pos_dict.items()))):\n",
    "        if x in list(pos_dict.items())[i][1]:\n",
    "            return list(pos_dict.items())[i][0]"
   ]
  },
  {
   "cell_type": "code",
   "execution_count": 25,
   "metadata": {},
   "outputs": [],
   "source": [
    "data['Position'] = data['Position'].apply(getkey)"
   ]
  },
  {
   "cell_type": "code",
   "execution_count": 26,
   "metadata": {},
   "outputs": [
    {
     "data": {
      "text/plain": [
       "(18147, 78)"
      ]
     },
     "execution_count": 26,
     "metadata": {},
     "output_type": "execute_result"
    }
   ],
   "source": [
    "data.shape"
   ]
  },
  {
   "cell_type": "code",
   "execution_count": 31,
   "metadata": {},
   "outputs": [],
   "source": [
    "columns_select = [\n",
    "                'Crossing','Finishing', 'HeadingAccuracy', 'ShortPassing',\n",
    "                'Volleys', 'Dribbling', 'Curve', 'FKAccuracy', 'LongPassing',\n",
    "                'BallControl', 'Acceleration', 'SprintSpeed', 'Agility', 'Reactions',\n",
    "                'Balance', 'ShotPower', 'Jumping', 'Stamina', 'Strength',\n",
    "                'LongShots', 'Aggression', 'Interceptions', 'Positioning', 'Vision',\n",
    "                'Penalties', 'Composure', 'Marking', 'StandingTackle', 'SlidingTackle',\n",
    "                'GKDiving', 'GKHandling', 'GKKicking', 'GKPositioning', 'GKReflexes'\n",
    "                ]"
   ]
  },
  {
   "cell_type": "code",
   "execution_count": 32,
   "metadata": {},
   "outputs": [],
   "source": [
    "data_select = data[columns_select]"
   ]
  },
  {
   "cell_type": "code",
   "execution_count": 34,
   "metadata": {},
   "outputs": [],
   "source": [
    "from sklearn.preprocessing import StandardScaler\n",
    "scaler = StandardScaler()\n",
    "X_std = scaler.fit_transform(df)"
   ]
  },
  {
   "cell_type": "code",
   "execution_count": 35,
   "metadata": {},
   "outputs": [
    {
     "data": {
      "text/plain": [
       "KMeans(algorithm='auto', copy_x=True, init='k-means++', max_iter=300,\n",
       "       n_clusters=6, n_init=10, n_jobs=None, precompute_distances='auto',\n",
       "       random_state=None, tol=0.0001, verbose=0)"
      ]
     },
     "execution_count": 35,
     "metadata": {},
     "output_type": "execute_result"
    }
   ],
   "source": [
    "from sklearn.cluster import KMeans\n",
    "kmeans = KMeans(n_clusters=6)\n",
    "kmeans.fit(X_std)"
   ]
  },
  {
   "cell_type": "code",
   "execution_count": 37,
   "metadata": {},
   "outputs": [],
   "source": [
    "predicted = kmeans.predict(X_std)"
   ]
  },
  {
   "cell_type": "code",
   "execution_count": 38,
   "metadata": {},
   "outputs": [],
   "source": [
    "from sklearn.decomposition import PCA\n",
    "pca = PCA(2)\n",
    "pc = pca.fit_transform(X_std)"
   ]
  },
  {
   "cell_type": "code",
   "execution_count": 44,
   "metadata": {},
   "outputs": [
    {
     "data": {
      "text/plain": [
       "0.6988693565701999"
      ]
     },
     "execution_count": 44,
     "metadata": {},
     "output_type": "execute_result"
    }
   ],
   "source": [
    "pca.explained_variance_ratio_.sum()"
   ]
  },
  {
   "cell_type": "code",
   "execution_count": 40,
   "metadata": {},
   "outputs": [
    {
     "data": {
      "text/plain": [
       "<matplotlib.collections.PathCollection at 0x125310950>"
      ]
     },
     "execution_count": 40,
     "metadata": {},
     "output_type": "execute_result"
    },
    {
     "data": {
      "image/png": "[encoded data removed]",
      "text/plain": [
       "<Figure size 936x360 with 2 Axes>"
      ]
     },
     "metadata": {
      "needs_background": "light"
     },
     "output_type": "display_data"
    }
   ],
   "source": [
    "import matplotlib.pyplot as plt\n",
    "\n",
    "fig, ax = plt.subplots(1, 2, figsize=(13,5))\n",
    "\n",
    "ax[0].scatter(pc[:, 0], pc[:, 1], c=kmeans.labels_)\n",
    "ax[1].scatter(pc[:, 0], pc[:, 1], c=data.Position)"
   ]
  },
  {
   "cell_type": "code",
   "execution_count": 45,
   "metadata": {},
   "outputs": [
    {
     "data": {
      "text/plain": [
       "37"
      ]
     },
     "execution_count": 45,
     "metadata": {},
     "output_type": "execute_result"
    }
   ],
   "source": [
    "kmeans.n_iter_"
   ]
  },
  {
   "cell_type": "code",
   "execution_count": 41,
   "metadata": {},
   "outputs": [
    {
     "name": "stderr",
     "output_type": "stream",
     "text": [
      "/usr/local/lib/python3.7/site-packages/ipykernel_launcher.py:1: SettingWithCopyWarning: \n",
      "A value is trying to be set on a copy of a slice from a DataFrame.\n",
      "Try using .loc[row_indexer,col_indexer] = value instead\n",
      "\n",
      "See the caveats in the documentation: http://pandas.pydata.org/pandas-docs/stable/user_guide/indexing.html#returning-a-view-versus-a-copy\n",
      "  \"\"\"Entry point for launching an IPython kernel.\n"
     ]
    }
   ],
   "source": [
    "df['cluster'] = kmeans.labels_"
   ]
  },
  {
   "cell_type": "code",
   "execution_count": 42,
   "metadata": {},
   "outputs": [
    {
     "data": {
      "text/html": [
       "<div>\n",
       "<style scoped>\n",
       "    .dataframe tbody tr th:only-of-type {\n",
       "        vertical-align: middle;\n",
       "    }\n",
       "\n",
       "    .dataframe tbody tr th {\n",
       "        vertical-align: top;\n",
       "    }\n",
       "\n",
       "    .dataframe thead th {\n",
       "        text-align: right;\n",
       "    }\n",
       "</style>\n",
       "<table border=\"1\" class=\"dataframe\">\n",
       "  <thead>\n",
       "    <tr style=\"text-align: right;\">\n",
       "      <th></th>\n",
       "      <th>Crossing</th>\n",
       "      <th>Finishing</th>\n",
       "      <th>HeadingAccuracy</th>\n",
       "      <th>ShortPassing</th>\n",
       "      <th>Volleys</th>\n",
       "      <th>Dribbling</th>\n",
       "      <th>Curve</th>\n",
       "      <th>FKAccuracy</th>\n",
       "      <th>LongPassing</th>\n",
       "      <th>BallControl</th>\n",
       "      <th>...</th>\n",
       "      <th>Penalties</th>\n",
       "      <th>Composure</th>\n",
       "      <th>Marking</th>\n",
       "      <th>StandingTackle</th>\n",
       "      <th>SlidingTackle</th>\n",
       "      <th>GKDiving</th>\n",
       "      <th>GKHandling</th>\n",
       "      <th>GKKicking</th>\n",
       "      <th>GKPositioning</th>\n",
       "      <th>GKReflexes</th>\n",
       "    </tr>\n",
       "    <tr>\n",
       "      <th>cluster</th>\n",
       "      <th></th>\n",
       "      <th></th>\n",
       "      <th></th>\n",
       "      <th></th>\n",
       "      <th></th>\n",
       "      <th></th>\n",
       "      <th></th>\n",
       "      <th></th>\n",
       "      <th></th>\n",
       "      <th></th>\n",
       "      <th></th>\n",
       "      <th></th>\n",
       "      <th></th>\n",
       "      <th></th>\n",
       "      <th></th>\n",
       "      <th></th>\n",
       "      <th></th>\n",
       "      <th></th>\n",
       "      <th></th>\n",
       "      <th></th>\n",
       "      <th></th>\n",
       "    </tr>\n",
       "  </thead>\n",
       "  <tbody>\n",
       "    <tr>\n",
       "      <th>0</th>\n",
       "      <td>55.681841</td>\n",
       "      <td>40.684623</td>\n",
       "      <td>56.042994</td>\n",
       "      <td>63.240010</td>\n",
       "      <td>38.584471</td>\n",
       "      <td>58.937026</td>\n",
       "      <td>47.327011</td>\n",
       "      <td>42.024532</td>\n",
       "      <td>58.413758</td>\n",
       "      <td>61.864441</td>\n",
       "      <td>...</td>\n",
       "      <td>45.129995</td>\n",
       "      <td>57.965099</td>\n",
       "      <td>60.586242</td>\n",
       "      <td>63.408194</td>\n",
       "      <td>61.563986</td>\n",
       "      <td>10.574102</td>\n",
       "      <td>10.590794</td>\n",
       "      <td>10.507840</td>\n",
       "      <td>10.573343</td>\n",
       "      <td>10.566262</td>\n",
       "    </tr>\n",
       "    <tr>\n",
       "      <th>1</th>\n",
       "      <td>14.257284</td>\n",
       "      <td>12.016296</td>\n",
       "      <td>14.368889</td>\n",
       "      <td>27.269136</td>\n",
       "      <td>12.397037</td>\n",
       "      <td>13.856296</td>\n",
       "      <td>14.707654</td>\n",
       "      <td>14.464198</td>\n",
       "      <td>25.808395</td>\n",
       "      <td>19.949630</td>\n",
       "      <td>...</td>\n",
       "      <td>20.007407</td>\n",
       "      <td>45.122469</td>\n",
       "      <td>15.225185</td>\n",
       "      <td>14.141235</td>\n",
       "      <td>14.072099</td>\n",
       "      <td>65.323951</td>\n",
       "      <td>62.868148</td>\n",
       "      <td>61.477531</td>\n",
       "      <td>63.047407</td>\n",
       "      <td>66.101728</td>\n",
       "    </tr>\n",
       "    <tr>\n",
       "      <th>2</th>\n",
       "      <td>37.717219</td>\n",
       "      <td>27.328890</td>\n",
       "      <td>61.880403</td>\n",
       "      <td>53.110231</td>\n",
       "      <td>28.930115</td>\n",
       "      <td>41.521974</td>\n",
       "      <td>32.040706</td>\n",
       "      <td>30.963977</td>\n",
       "      <td>46.672190</td>\n",
       "      <td>49.917507</td>\n",
       "      <td>...</td>\n",
       "      <td>38.684798</td>\n",
       "      <td>53.787824</td>\n",
       "      <td>61.820965</td>\n",
       "      <td>64.833213</td>\n",
       "      <td>62.480908</td>\n",
       "      <td>10.419669</td>\n",
       "      <td>10.462896</td>\n",
       "      <td>10.417507</td>\n",
       "      <td>10.454971</td>\n",
       "      <td>10.413184</td>\n",
       "    </tr>\n",
       "    <tr>\n",
       "      <th>3</th>\n",
       "      <td>47.335619</td>\n",
       "      <td>57.460891</td>\n",
       "      <td>50.828607</td>\n",
       "      <td>56.112184</td>\n",
       "      <td>48.850732</td>\n",
       "      <td>60.685260</td>\n",
       "      <td>47.637270</td>\n",
       "      <td>40.988470</td>\n",
       "      <td>46.349330</td>\n",
       "      <td>60.359925</td>\n",
       "      <td>...</td>\n",
       "      <td>55.269866</td>\n",
       "      <td>53.569025</td>\n",
       "      <td>31.514490</td>\n",
       "      <td>28.450919</td>\n",
       "      <td>27.287005</td>\n",
       "      <td>10.228420</td>\n",
       "      <td>10.337488</td>\n",
       "      <td>10.349018</td>\n",
       "      <td>10.311935</td>\n",
       "      <td>10.272982</td>\n",
       "    </tr>\n",
       "    <tr>\n",
       "      <th>4</th>\n",
       "      <td>65.710624</td>\n",
       "      <td>55.397976</td>\n",
       "      <td>60.567960</td>\n",
       "      <td>72.297133</td>\n",
       "      <td>54.588870</td>\n",
       "      <td>68.434401</td>\n",
       "      <td>63.970658</td>\n",
       "      <td>59.453288</td>\n",
       "      <td>68.999325</td>\n",
       "      <td>71.458347</td>\n",
       "      <td>...</td>\n",
       "      <td>57.966610</td>\n",
       "      <td>69.436088</td>\n",
       "      <td>66.106239</td>\n",
       "      <td>68.752108</td>\n",
       "      <td>65.911298</td>\n",
       "      <td>10.641147</td>\n",
       "      <td>10.640809</td>\n",
       "      <td>10.687690</td>\n",
       "      <td>10.715683</td>\n",
       "      <td>10.626644</td>\n",
       "    </tr>\n",
       "    <tr>\n",
       "      <th>5</th>\n",
       "      <td>62.812617</td>\n",
       "      <td>67.398384</td>\n",
       "      <td>57.159105</td>\n",
       "      <td>67.748912</td>\n",
       "      <td>62.813238</td>\n",
       "      <td>71.747980</td>\n",
       "      <td>64.545681</td>\n",
       "      <td>58.628962</td>\n",
       "      <td>59.237104</td>\n",
       "      <td>71.528278</td>\n",
       "      <td>...</td>\n",
       "      <td>63.825668</td>\n",
       "      <td>67.333437</td>\n",
       "      <td>36.967371</td>\n",
       "      <td>34.545681</td>\n",
       "      <td>31.183654</td>\n",
       "      <td>10.614357</td>\n",
       "      <td>10.735550</td>\n",
       "      <td>10.790242</td>\n",
       "      <td>10.583903</td>\n",
       "      <td>10.645432</td>\n",
       "    </tr>\n",
       "  </tbody>\n",
       "</table>\n",
       "<p>6 rows × 34 columns</p>\n",
       "</div>"
      ],
      "text/plain": [
       "          Crossing  Finishing  HeadingAccuracy  ShortPassing    Volleys  \\\n",
       "cluster                                                                   \n",
       "0        55.681841  40.684623        56.042994     63.240010  38.584471   \n",
       "1        14.257284  12.016296        14.368889     27.269136  12.397037   \n",
       "2        37.717219  27.328890        61.880403     53.110231  28.930115   \n",
       "3        47.335619  57.460891        50.828607     56.112184  48.850732   \n",
       "4        65.710624  55.397976        60.567960     72.297133  54.588870   \n",
       "5        62.812617  67.398384        57.159105     67.748912  62.813238   \n",
       "\n",
       "         Dribbling      Curve  FKAccuracy  LongPassing  BallControl  ...  \\\n",
       "cluster                                                              ...   \n",
       "0        58.937026  47.327011   42.024532    58.413758    61.864441  ...   \n",
       "1        13.856296  14.707654   14.464198    25.808395    19.949630  ...   \n",
       "2        41.521974  32.040706   30.963977    46.672190    49.917507  ...   \n",
       "3        60.685260  47.637270   40.988470    46.349330    60.359925  ...   \n",
       "4        68.434401  63.970658   59.453288    68.999325    71.458347  ...   \n",
       "5        71.747980  64.545681   58.628962    59.237104    71.528278  ...   \n",
       "\n",
       "         Penalties  Composure    Marking  StandingTackle  SlidingTackle  \\\n",
       "cluster                                                                   \n",
       "0        45.129995  57.965099  60.586242       63.408194      61.563986   \n",
       "1        20.007407  45.122469  15.225185       14.141235      14.072099   \n",
       "2        38.684798  53.787824  61.820965       64.833213      62.480908   \n",
       "3        55.269866  53.569025  31.514490       28.450919      27.287005   \n",
       "4        57.966610  69.436088  66.106239       68.752108      65.911298   \n",
       "5        63.825668  67.333437  36.967371       34.545681      31.183654   \n",
       "\n",
       "          GKDiving  GKHandling  GKKicking  GKPositioning  GKReflexes  \n",
       "cluster                                                               \n",
       "0        10.574102   10.590794  10.507840      10.573343   10.566262  \n",
       "1        65.323951   62.868148  61.477531      63.047407   66.101728  \n",
       "2        10.419669   10.462896  10.417507      10.454971   10.413184  \n",
       "3        10.228420   10.337488  10.349018      10.311935   10.272982  \n",
       "4        10.641147   10.640809  10.687690      10.715683   10.626644  \n",
       "5        10.614357   10.735550  10.790242      10.583903   10.645432  \n",
       "\n",
       "[6 rows x 34 columns]"
      ]
     },
     "execution_count": 42,
     "metadata": {},
     "output_type": "execute_result"
    }
   ],
   "source": [
    "df.groupby('cluster').mean()"
   ]
  },
  {
   "cell_type": "code",
   "execution_count": null,
   "metadata": {},
   "outputs": [],
   "source": []
  }
 ],
 "metadata": {
  "kernelspec": {
   "display_name": "Python 3",
   "language": "python",
   "name": "python3"
  },
  "language_info": {
   "codemirror_mode": {
    "name": "ipython",
    "version": 3
   },
   "file_extension": ".py",
   "mimetype": "text/x-python",
   "name": "python",
   "nbconvert_exporter": "python",
   "pygments_lexer": "ipython3",
   "version": "3.7.6"
  }
 },
 "nbformat": 4,
 "nbformat_minor": 4
}
