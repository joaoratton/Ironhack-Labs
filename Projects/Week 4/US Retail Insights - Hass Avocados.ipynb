{
 "cells": [
  {
   "cell_type": "markdown",
   "metadata": {},
   "source": [
    "# US Retail Insights - Hass Avocados"
   ]
  },
  {
   "cell_type": "markdown",
   "metadata": {},
   "source": [
    "## Data Wrangling"
   ]
  },
  {
   "cell_type": "code",
   "execution_count": 1,
   "metadata": {},
   "outputs": [],
   "source": [
    "from math import ceil\n",
    "import pandas as pd\n",
    "import datetime\n",
    "import re"
   ]
  },
  {
   "cell_type": "code",
   "execution_count": 2,
   "metadata": {},
   "outputs": [],
   "source": [
    "# Importing data set\n",
    "raw_avocado = pd.read_csv('../Week_4/avocado.csv')"
   ]
  },
  {
   "cell_type": "code",
   "execution_count": 3,
   "metadata": {
    "scrolled": true
   },
   "outputs": [
    {
     "data": {
      "text/plain": [
       "Unnamed: 0      0.0\n",
       "Date            0.0\n",
       "AveragePrice    0.0\n",
       "Total Volume    0.0\n",
       "4046            0.0\n",
       "4225            0.0\n",
       "4770            0.0\n",
       "Total Bags      0.0\n",
       "Small Bags      0.0\n",
       "Large Bags      0.0\n",
       "XLarge Bags     0.0\n",
       "type            0.0\n",
       "year            0.0\n",
       "region          0.0\n",
       "dtype: float64"
      ]
     },
     "execution_count": 3,
     "metadata": {},
     "output_type": "execute_result"
    }
   ],
   "source": [
    "# Checking for nan\n",
    "raw_avocado.isnull().mean()"
   ]
  },
  {
   "cell_type": "code",
   "execution_count": 4,
   "metadata": {},
   "outputs": [],
   "source": [
    "# Formating to date time\n",
    "raw_avocado['date_formated'] = pd.to_datetime(raw_avocado['Date'])"
   ]
  },
  {
   "cell_type": "code",
   "execution_count": 5,
   "metadata": {},
   "outputs": [
    {
     "data": {
      "text/plain": [
       "array([6])"
      ]
     },
     "execution_count": 5,
     "metadata": {},
     "output_type": "execute_result"
    }
   ],
   "source": [
    "# Checking which weekdays we have in the data frame\n",
    "raw_avocado['weekday'] = pd.DatetimeIndex(raw_avocado['date_formated']).weekday\n",
    "raw_avocado['weekday'].unique()"
   ]
  },
  {
   "cell_type": "code",
   "execution_count": 6,
   "metadata": {},
   "outputs": [],
   "source": [
    "# Calculating week of the month\n",
    "def week_of_month(date):\n",
    "    \n",
    "    first_day = date.replace(day=1)\n",
    "    dom = date.day\n",
    "    adjusted_dom = dom + first_day.weekday()\n",
    "    return int(ceil(adjusted_dom/7.0))"
   ]
  },
  {
   "cell_type": "code",
   "execution_count": 7,
   "metadata": {},
   "outputs": [],
   "source": [
    "# Creating a new column and mapping week of the month function\n",
    "raw_avocado['week_month'] = raw_avocado['date_formated'].map(week_of_month)"
   ]
  },
  {
   "cell_type": "code",
   "execution_count": 8,
   "metadata": {},
   "outputs": [],
   "source": [
    "# Extracting month\n",
    "raw_avocado['month'] = pd.DatetimeIndex(raw_avocado['date_formated']).month"
   ]
  },
  {
   "cell_type": "code",
   "execution_count": 9,
   "metadata": {},
   "outputs": [],
   "source": [
    "# Concatenating year and month\n",
    "raw_avocado['month_year'] = raw_avocado['year'].map(str) + ('_') + raw_avocado['month'].map(str)"
   ]
  },
  {
   "cell_type": "code",
   "execution_count": 10,
   "metadata": {},
   "outputs": [],
   "source": [
    "# Moving annual total dictionary\n",
    "moving_annual_dict = {\n",
    "    '2015_12' : 'MAT1', '2015_11' : 'MAT1', '2015_10' : 'MAT1', \n",
    "    '2015_9' : 'MAT1', '2015_8' : 'MAT1', '2015_7' : 'MAT1',\n",
    "    '2015_6' : 'MAT1', '2015_5' : 'MAT1', '2015_4' : 'MAT1', \n",
    "    '2015_3' : 'OUT', '2015_2' : 'OUT', '2015_1': 'OUT',\n",
    "    '2016_12' : 'MAT2', '2016_11' : 'MAT2', '2016_10' : 'MAT2',\n",
    "    '2016_9' : 'MAT2', '2016_8' : 'MAT2', '2016_7' :'MAT2',\n",
    "    '2016_6' : 'MAT2', '2016_5' : 'MAT2', '2016_4' : 'MAT2', \n",
    "    '2016_3' : 'MAT1', '2016_2' : 'MAT1', '2016_1' : 'MAT1',\n",
    "    '2017_12' : 'MAT3', '2017_11' : 'MAT3', '2017_10' : 'MAT3', \n",
    "    '2017_9' : 'MAT3', '2017_8' : 'MAT3', '2017_7' : 'MAT3',\n",
    "    '2017_6' : 'MAT3', '2017_5' : 'MAT3', '2017_4' : 'MAT3', \n",
    "    '2017_3' : 'MAT2', '2017_2' : 'MAT2', '2017_1' : 'MAT2',\n",
    "    '2018_3' : 'MAT3', '2018_2' : 'MAT3', '2018_1' : 'MAT3'\n",
    "    }"
   ]
  },
  {
   "cell_type": "code",
   "execution_count": 11,
   "metadata": {},
   "outputs": [],
   "source": [
    "# Crating a new column with moving annual total values\n",
    "raw_avocado['moving_annual'] = raw_avocado['month_year'].map(moving_annual_dict)"
   ]
  },
  {
   "cell_type": "code",
   "execution_count": 12,
   "metadata": {},
   "outputs": [],
   "source": [
    "raw_avocado = raw_avocado.rename(columns = {\n",
    "                                'Date' : 'raw_date',\n",
    "                                'date_formated' : 'date',\n",
    "                                'AveragePrice' : 'average_price',\n",
    "                                'Total Volume' : 'total_volume',\n",
    "                                '4046' : 'var_4046',\n",
    "                                '4225' : 'var_4225',\n",
    "                                '4770' : 'var_4770',\n",
    "                                'Total Bags' : 'total_bags',\n",
    "                                'Small Bags' : 'small_bags',\n",
    "                                'Large Bags' : 'large_bags',\n",
    "                                'XLarge Bags' : 'xlarge_bags',\n",
    "                                })"
   ]
  },
  {
   "cell_type": "code",
   "execution_count": 13,
   "metadata": {},
   "outputs": [],
   "source": [
    "raw_avocado['city_region'] = raw_avocado['region']\\\n",
    "                                .apply(lambda region: (' ').join(re.findall('[A-Z][^A-Z]*', region)))"
   ]
  },
  {
   "cell_type": "code",
   "execution_count": 14,
   "metadata": {},
   "outputs": [],
   "source": [
    "city_dict = {\n",
    "    'Baltimore Washington' : 'Wachington, D.C.', \n",
    "    'Buffalo Rochester' : 'Buffalo', \n",
    "    'Cincinnati Dayton' : 'Cincinnati', \n",
    "    'Dallas Ft Worth' : 'Dallas',\n",
    "    'Harrisburg Scranton' : 'Scranton',\n",
    "    'Hartford Springfield' : 'Springfield',\n",
    "    'Miami Ft Lauderdale' : 'Miami',\n",
    "    'New Orleans Mobile' : 'New Orleans',\n",
    "    'Phoenix Tucson' : 'Phoenix',\n",
    "    'Raleigh Greensboro' : 'Raleigh',\n",
    "    'Richmond Norfolk' : 'Norfolk'\n",
    "    }"
   ]
  },
  {
   "cell_type": "code",
   "execution_count": 15,
   "metadata": {},
   "outputs": [],
   "source": [
    "raw_avocado['city_plot'] = raw_avocado['city_region'].map(city_dict)\\\n",
    "                                .fillna(raw_avocado['city_region'])"
   ]
  },
  {
   "cell_type": "code",
   "execution_count": 16,
   "metadata": {},
   "outputs": [],
   "source": [
    "city_region_dict = {\n",
    "    'Baltimore Washington' : 'Baltimore/Washington Area', \n",
    "    'Buffalo Rochester' : 'Buffalo/Rochester Area', \n",
    "    'Cincinnati Dayton' : 'Cincinnati/Dayton Area', \n",
    "    'Dallas Ft Worth' : 'Dallas/Ft.Worth Area',\n",
    "    'Harrisburg Scranton' : 'Harrisburg/Scranton Area',\n",
    "    'Hartford Springfield' : 'Hartford/Springfield Area',\n",
    "    'Miami Ft Lauderdale' : 'Miami/Ft.Lauderdale Area',\n",
    "    'New Orleans Mobile' : 'New Orleans/Mobile Area',\n",
    "    'Phoenix Tucson' : 'Phoenix/Tucson Area',\n",
    "    'Raleigh Greensboro' : 'Raleigh/Greensboro Area',\n",
    "    'Richmond Norfolk' : 'Richmond/Norfolk Area'\n",
    "    }"
   ]
  },
  {
   "cell_type": "code",
   "execution_count": 17,
   "metadata": {},
   "outputs": [],
   "source": [
    "raw_avocado['city_label'] = raw_avocado['city_region'].map(city_region_dict)\\\n",
    "                                .fillna(raw_avocado['city_region'])"
   ]
  },
  {
   "cell_type": "code",
   "execution_count": 18,
   "metadata": {},
   "outputs": [],
   "source": [
    "macroreg_flag = [\n",
    "    'California',       \n",
    "    'Great Lakes', \n",
    "    'Midsouth', \n",
    "    'Northeast',  \n",
    "    'Northern New England', \n",
    "    'Plains', \n",
    "    'South Carolina',   \n",
    "    'South Central', \n",
    "    'Southeast',\n",
    "    'Total U S', \n",
    "    'West', \n",
    "    'West Tex New Mexico'\n",
    "    ]"
   ]
  },
  {
   "cell_type": "code",
   "execution_count": 19,
   "metadata": {},
   "outputs": [],
   "source": [
    "raw_avocado['macroreg_flag'] = raw_avocado['city_region']\\\n",
    "                                .apply(lambda city: city in macroreg_flag)"
   ]
  },
  {
   "cell_type": "code",
   "execution_count": 20,
   "metadata": {},
   "outputs": [],
   "source": [
    "price_buckets_conv = raw_avocado.query('city_region == \"Total U S\" and type == \"conventional\" and moving_annual == \"MAT3\"')['average_price'].describe()\n",
    "price_buckets_org = raw_avocado.query('city_region == \"Total U S\" and type == \"organic\" and moving_annual == \"MAT3\"')['average_price'].describe()"
   ]
  },
  {
   "cell_type": "code",
   "execution_count": 21,
   "metadata": {},
   "outputs": [],
   "source": [
    "def price_bucket_conv(i):\n",
    "    if i >= 0.87 and i < 0.97:\n",
    "        i = 'bucket1'\n",
    "    elif i >= 0.97 and i < 1.07:\n",
    "        i = 'bucket2'\n",
    "    elif i >= 1.07 and i < 1.17:\n",
    "        i = 'bucket3'\n",
    "    elif i >= 1.17 and i < 1.27:\n",
    "        i = 'bucket4'\n",
    "    elif i >= 1.27 and i < 1.37:\n",
    "        i = 'bucket5'\n",
    "    elif i >= 1.37 and i < 1.47:\n",
    "        i = 'bucket6'\n",
    "    elif i >= 1.47 and i < 1.57:\n",
    "        i = 'bucket7'\n",
    "    elif i >= 1.57 and i <= 1.65:\n",
    "        i = 'bucket8'\n",
    "    else:\n",
    "        i = 'outlier'\n",
    "    return i"
   ]
  },
  {
   "cell_type": "code",
   "execution_count": 22,
   "metadata": {},
   "outputs": [],
   "source": [
    "def price_bucket_org(i):\n",
    "    if i >= 1.42 and i < 1.52:\n",
    "        i = 'bucket1'\n",
    "    elif i >= 1.52 and i < 1.62:\n",
    "        i = 'bucket2'\n",
    "    elif i >= 1.62 and i < 1.72:\n",
    "        i = 'bucket3'\n",
    "    elif i >= 1.72 and i < 1.82:\n",
    "        i = 'bucket4'\n",
    "    elif i >= 1.82 and i < 1.92:\n",
    "        i = 'bucket5'\n",
    "    elif i >= 1.92 and i < 2.02:\n",
    "        i = 'bucket6'\n",
    "    elif i >= 2.02 and i <= 2.09:\n",
    "        i = 'bucket7'\n",
    "    else:\n",
    "        i = 'outlier'\n",
    "    return i"
   ]
  },
  {
   "cell_type": "code",
   "execution_count": 23,
   "metadata": {},
   "outputs": [],
   "source": [
    "raw_avocado['price_bucket_conv'] = raw_avocado.loc[raw_avocado['type']=='conventional']['average_price']\\\n",
    "                                        .apply(price_bucket_conv)"
   ]
  },
  {
   "cell_type": "code",
   "execution_count": 24,
   "metadata": {},
   "outputs": [],
   "source": [
    "raw_avocado['price_bucket_org'] = raw_avocado.loc[raw_avocado['type']=='organic']['average_price']\\\n",
    "                                    .apply(price_bucket_org)"
   ]
  },
  {
   "cell_type": "code",
   "execution_count": 25,
   "metadata": {},
   "outputs": [],
   "source": [
    "# Number of supermarket store in the US from 2011 to 2018 (source: statista)\n",
    "store_number = {2015 : '38015', 2016 : '38441', 2017 : '38571', 2018 : '38307'}"
   ]
  },
  {
   "cell_type": "code",
   "execution_count": 26,
   "metadata": {},
   "outputs": [],
   "source": [
    "raw_avocado['number_of_stores'] = raw_avocado.loc[raw_avocado['city_region'] == 'Total U S']['year'].map(store_number)"
   ]
  },
  {
   "cell_type": "code",
   "execution_count": 27,
   "metadata": {},
   "outputs": [],
   "source": [
    "avocado = raw_avocado[[\n",
    "    'year',\n",
    "    'raw_date',\n",
    "    'date',\n",
    "    'weekday',\n",
    "    'week_month',\n",
    "    'moving_annual',\n",
    "    'average_price',\n",
    "    'price_bucket_conv',\n",
    "    'price_bucket_org',\n",
    "    'total_volume',                      \n",
    "    'var_4046',                    \n",
    "    'var_4225',                    \n",
    "    'var_4770',                      \n",
    "    'total_bags',                     \n",
    "    'small_bags',                     \n",
    "    'large_bags',                    \n",
    "    'xlarge_bags',                    \n",
    "    'type',                                          \n",
    "    'region',\n",
    "    'city_region',\n",
    "    'city_plot',\n",
    "    'city_label',\n",
    "    'macroreg_flag',\n",
    "    'number_of_stores'\n",
    "]]"
   ]
  },
  {
   "cell_type": "code",
   "execution_count": 28,
   "metadata": {},
   "outputs": [],
   "source": [
    "#avocado.to_csv('avocado_worked.csv', index=True)"
   ]
  },
  {
   "cell_type": "code",
   "execution_count": 29,
   "metadata": {},
   "outputs": [
    {
     "data": {
      "text/html": [
       "<div>\n",
       "<style scoped>\n",
       "    .dataframe tbody tr th:only-of-type {\n",
       "        vertical-align: middle;\n",
       "    }\n",
       "\n",
       "    .dataframe tbody tr th {\n",
       "        vertical-align: top;\n",
       "    }\n",
       "\n",
       "    .dataframe thead th {\n",
       "        text-align: right;\n",
       "    }\n",
       "</style>\n",
       "<table border=\"1\" class=\"dataframe\">\n",
       "  <thead>\n",
       "    <tr style=\"text-align: right;\">\n",
       "      <th></th>\n",
       "      <th>year</th>\n",
       "      <th>raw_date</th>\n",
       "      <th>date</th>\n",
       "      <th>weekday</th>\n",
       "      <th>week_month</th>\n",
       "      <th>moving_annual</th>\n",
       "      <th>average_price</th>\n",
       "      <th>price_bucket_conv</th>\n",
       "      <th>price_bucket_org</th>\n",
       "      <th>total_volume</th>\n",
       "      <th>...</th>\n",
       "      <th>small_bags</th>\n",
       "      <th>large_bags</th>\n",
       "      <th>xlarge_bags</th>\n",
       "      <th>type</th>\n",
       "      <th>region</th>\n",
       "      <th>city_region</th>\n",
       "      <th>city_plot</th>\n",
       "      <th>city_label</th>\n",
       "      <th>macroreg_flag</th>\n",
       "      <th>number_of_stores</th>\n",
       "    </tr>\n",
       "  </thead>\n",
       "  <tbody>\n",
       "    <tr>\n",
       "      <th>0</th>\n",
       "      <td>2015</td>\n",
       "      <td>2015-12-27</td>\n",
       "      <td>2015-12-27</td>\n",
       "      <td>6</td>\n",
       "      <td>4</td>\n",
       "      <td>MAT1</td>\n",
       "      <td>1.33</td>\n",
       "      <td>bucket5</td>\n",
       "      <td>NaN</td>\n",
       "      <td>64236.62</td>\n",
       "      <td>...</td>\n",
       "      <td>8603.62</td>\n",
       "      <td>93.25</td>\n",
       "      <td>0.0</td>\n",
       "      <td>conventional</td>\n",
       "      <td>Albany</td>\n",
       "      <td>Albany</td>\n",
       "      <td>Albany</td>\n",
       "      <td>Albany</td>\n",
       "      <td>False</td>\n",
       "      <td>NaN</td>\n",
       "    </tr>\n",
       "    <tr>\n",
       "      <th>1</th>\n",
       "      <td>2015</td>\n",
       "      <td>2015-12-20</td>\n",
       "      <td>2015-12-20</td>\n",
       "      <td>6</td>\n",
       "      <td>3</td>\n",
       "      <td>MAT1</td>\n",
       "      <td>1.35</td>\n",
       "      <td>bucket5</td>\n",
       "      <td>NaN</td>\n",
       "      <td>54876.98</td>\n",
       "      <td>...</td>\n",
       "      <td>9408.07</td>\n",
       "      <td>97.49</td>\n",
       "      <td>0.0</td>\n",
       "      <td>conventional</td>\n",
       "      <td>Albany</td>\n",
       "      <td>Albany</td>\n",
       "      <td>Albany</td>\n",
       "      <td>Albany</td>\n",
       "      <td>False</td>\n",
       "      <td>NaN</td>\n",
       "    </tr>\n",
       "  </tbody>\n",
       "</table>\n",
       "<p>2 rows × 24 columns</p>\n",
       "</div>"
      ],
      "text/plain": [
       "   year    raw_date       date  weekday  week_month moving_annual  \\\n",
       "0  2015  2015-12-27 2015-12-27        6           4          MAT1   \n",
       "1  2015  2015-12-20 2015-12-20        6           3          MAT1   \n",
       "\n",
       "   average_price price_bucket_conv price_bucket_org  total_volume  ...  \\\n",
       "0           1.33           bucket5              NaN      64236.62  ...   \n",
       "1           1.35           bucket5              NaN      54876.98  ...   \n",
       "\n",
       "   small_bags  large_bags  xlarge_bags          type  region  city_region  \\\n",
       "0     8603.62       93.25          0.0  conventional  Albany       Albany   \n",
       "1     9408.07       97.49          0.0  conventional  Albany       Albany   \n",
       "\n",
       "   city_plot city_label macroreg_flag number_of_stores  \n",
       "0     Albany     Albany         False              NaN  \n",
       "1     Albany     Albany         False              NaN  \n",
       "\n",
       "[2 rows x 24 columns]"
      ]
     },
     "execution_count": 29,
     "metadata": {},
     "output_type": "execute_result"
    }
   ],
   "source": [
    "avocado.head(2)"
   ]
  },
  {
   "cell_type": "code",
   "execution_count": 56,
   "metadata": {},
   "outputs": [],
   "source": [
    "import matplotlib.pyplot as plt\n",
    "import seaborn as sns"
   ]
  },
  {
   "cell_type": "code",
   "execution_count": 71,
   "metadata": {},
   "outputs": [],
   "source": [
    "stats = avocado.query('city_region == \"Total U S\" & moving_annual == \"MAT3\" & type == \"conventional\"')['average_price'].describe()"
   ]
  },
  {
   "cell_type": "code",
   "execution_count": 72,
   "metadata": {},
   "outputs": [
    {
     "data": {
      "text/plain": [
       "count    52.000000\n",
       "mean      1.235577\n",
       "std       0.185867\n",
       "min       0.870000\n",
       "25%       1.090000\n",
       "50%       1.195000\n",
       "75%       1.322500\n",
       "max       1.650000\n",
       "IQR       0.232500\n",
       "Name: average_price, dtype: float64"
      ]
     },
     "execution_count": 72,
     "metadata": {},
     "output_type": "execute_result"
    }
   ],
   "source": [
    "stats['IQR'] = stats['75%'] - stats['25%']\n",
    "stats"
   ]
  },
  {
   "cell_type": "code",
   "execution_count": 75,
   "metadata": {},
   "outputs": [],
   "source": [
    "iqr = stats['IQR']\n",
    "q3 = stats['75%']\n",
    "q1 = stats['25%']"
   ]
  },
  {
   "cell_type": "code",
   "execution_count": 76,
   "metadata": {},
   "outputs": [],
   "source": [
    "upper_limit = q3 + 1.5 * iqr\n",
    "lower_limit = q1 - 1.5 * iqr"
   ]
  },
  {
   "cell_type": "code",
   "execution_count": 77,
   "metadata": {},
   "outputs": [
    {
     "data": {
      "text/plain": [
       "1.67125"
      ]
     },
     "execution_count": 77,
     "metadata": {},
     "output_type": "execute_result"
    }
   ],
   "source": [
    "upper_limit"
   ]
  },
  {
   "cell_type": "code",
   "execution_count": 78,
   "metadata": {},
   "outputs": [
    {
     "data": {
      "text/plain": [
       "0.7412500000000002"
      ]
     },
     "execution_count": 78,
     "metadata": {},
     "output_type": "execute_result"
    }
   ],
   "source": [
    "lower_limit"
   ]
  },
  {
   "cell_type": "code",
   "execution_count": 84,
   "metadata": {},
   "outputs": [],
   "source": [
    "stats_org = avocado.query('city_region == \"Total U S\" & moving_annual == \"MAT3\" & type == \"organic\"')['average_price'].describe()"
   ]
  },
  {
   "cell_type": "code",
   "execution_count": 85,
   "metadata": {},
   "outputs": [
    {
     "data": {
      "text/plain": [
       "count    52.000000\n",
       "mean      1.700192\n",
       "std       0.171069\n",
       "min       1.420000\n",
       "25%       1.557500\n",
       "50%       1.685000\n",
       "75%       1.820000\n",
       "max       2.090000\n",
       "IQR       0.262500\n",
       "Name: average_price, dtype: float64"
      ]
     },
     "execution_count": 85,
     "metadata": {},
     "output_type": "execute_result"
    }
   ],
   "source": [
    "stats_org['IQR'] = stats_org['75%'] - stats_org['25%']\n",
    "stats_org"
   ]
  },
  {
   "cell_type": "code",
   "execution_count": 86,
   "metadata": {},
   "outputs": [],
   "source": [
    "iqr_org = stats_org['IQR']\n",
    "q3_org = stats_org['75%']\n",
    "q1_org = stats_org['25%']"
   ]
  },
  {
   "cell_type": "code",
   "execution_count": 87,
   "metadata": {},
   "outputs": [],
   "source": [
    "upper_limit_org = q3 + 1.5 * iqr\n",
    "lower_limit_org = q1 - 1.5 * iqr"
   ]
  },
  {
   "cell_type": "code",
   "execution_count": 88,
   "metadata": {},
   "outputs": [
    {
     "data": {
      "text/plain": [
       "1.67125"
      ]
     },
     "execution_count": 88,
     "metadata": {},
     "output_type": "execute_result"
    }
   ],
   "source": [
    "upper_limit_org"
   ]
  },
  {
   "cell_type": "code",
   "execution_count": 89,
   "metadata": {},
   "outputs": [
    {
     "data": {
      "text/plain": [
       "0.7412500000000002"
      ]
     },
     "execution_count": 89,
     "metadata": {},
     "output_type": "execute_result"
    }
   ],
   "source": [
    "lower_limit_org "
   ]
  },
  {
   "cell_type": "code",
   "execution_count": null,
   "metadata": {},
   "outputs": [],
   "source": []
  }
 ],
 "metadata": {
  "kernelspec": {
   "display_name": "Python 3",
   "language": "python",
   "name": "python3"
  },
  "language_info": {
   "codemirror_mode": {
    "name": "ipython",
    "version": 3
   },
   "file_extension": ".py",
   "mimetype": "text/x-python",
   "name": "python",
   "nbconvert_exporter": "python",
   "pygments_lexer": "ipython3",
   "version": "3.7.6"
  }
 },
 "nbformat": 4,
 "nbformat_minor": 4
}
