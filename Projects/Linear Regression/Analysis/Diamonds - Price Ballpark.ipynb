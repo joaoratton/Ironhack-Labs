{
 "cells": [
  {
   "cell_type": "code",
   "execution_count": 2,
   "metadata": {},
   "outputs": [],
   "source": [
    "import numpy as np\n",
    "import pandas as pd\n",
    "import matplotlib.pyplot as plt\n",
    "import seaborn as sns"
   ]
  },
  {
   "cell_type": "code",
   "execution_count": 4,
   "metadata": {},
   "outputs": [],
   "source": [
    "diamonds = pd.read_csv('../Data/diamonds_hist.csv')"
   ]
  },
  {
   "cell_type": "code",
   "execution_count": 4,
   "metadata": {},
   "outputs": [
    {
     "data": {
      "text/html": [
       "<div>\n",
       "<style scoped>\n",
       "    .dataframe tbody tr th:only-of-type {\n",
       "        vertical-align: middle;\n",
       "    }\n",
       "\n",
       "    .dataframe tbody tr th {\n",
       "        vertical-align: top;\n",
       "    }\n",
       "\n",
       "    .dataframe thead th {\n",
       "        text-align: right;\n",
       "    }\n",
       "</style>\n",
       "<table border=\"1\" class=\"dataframe\">\n",
       "  <thead>\n",
       "    <tr style=\"text-align: right;\">\n",
       "      <th></th>\n",
       "      <th>carat</th>\n",
       "      <th>cut</th>\n",
       "      <th>color</th>\n",
       "      <th>clarity</th>\n",
       "      <th>depth</th>\n",
       "      <th>table</th>\n",
       "      <th>price</th>\n",
       "      <th>x</th>\n",
       "      <th>y</th>\n",
       "      <th>z</th>\n",
       "    </tr>\n",
       "  </thead>\n",
       "  <tbody>\n",
       "    <tr>\n",
       "      <th>0</th>\n",
       "      <td>0.21</td>\n",
       "      <td>Premium</td>\n",
       "      <td>E</td>\n",
       "      <td>SI1</td>\n",
       "      <td>59.8</td>\n",
       "      <td>61.0</td>\n",
       "      <td>326</td>\n",
       "      <td>3.89</td>\n",
       "      <td>3.84</td>\n",
       "      <td>2.31</td>\n",
       "    </tr>\n",
       "    <tr>\n",
       "      <th>1</th>\n",
       "      <td>0.23</td>\n",
       "      <td>Good</td>\n",
       "      <td>E</td>\n",
       "      <td>VS1</td>\n",
       "      <td>56.9</td>\n",
       "      <td>65.0</td>\n",
       "      <td>327</td>\n",
       "      <td>4.05</td>\n",
       "      <td>4.07</td>\n",
       "      <td>2.31</td>\n",
       "    </tr>\n",
       "    <tr>\n",
       "      <th>2</th>\n",
       "      <td>0.29</td>\n",
       "      <td>Premium</td>\n",
       "      <td>I</td>\n",
       "      <td>VS2</td>\n",
       "      <td>62.4</td>\n",
       "      <td>58.0</td>\n",
       "      <td>334</td>\n",
       "      <td>4.20</td>\n",
       "      <td>4.23</td>\n",
       "      <td>2.63</td>\n",
       "    </tr>\n",
       "    <tr>\n",
       "      <th>3</th>\n",
       "      <td>0.31</td>\n",
       "      <td>Good</td>\n",
       "      <td>J</td>\n",
       "      <td>SI2</td>\n",
       "      <td>63.3</td>\n",
       "      <td>58.0</td>\n",
       "      <td>335</td>\n",
       "      <td>4.34</td>\n",
       "      <td>4.35</td>\n",
       "      <td>2.75</td>\n",
       "    </tr>\n",
       "    <tr>\n",
       "      <th>4</th>\n",
       "      <td>0.24</td>\n",
       "      <td>Very Good</td>\n",
       "      <td>J</td>\n",
       "      <td>VVS2</td>\n",
       "      <td>62.8</td>\n",
       "      <td>57.0</td>\n",
       "      <td>336</td>\n",
       "      <td>3.94</td>\n",
       "      <td>3.96</td>\n",
       "      <td>2.48</td>\n",
       "    </tr>\n",
       "  </tbody>\n",
       "</table>\n",
       "</div>"
      ],
      "text/plain": [
       "   carat        cut color clarity  depth  table  price     x     y     z\n",
       "0   0.21    Premium     E     SI1   59.8   61.0    326  3.89  3.84  2.31\n",
       "1   0.23       Good     E     VS1   56.9   65.0    327  4.05  4.07  2.31\n",
       "2   0.29    Premium     I     VS2   62.4   58.0    334  4.20  4.23  2.63\n",
       "3   0.31       Good     J     SI2   63.3   58.0    335  4.34  4.35  2.75\n",
       "4   0.24  Very Good     J    VVS2   62.8   57.0    336  3.94  3.96  2.48"
      ]
     },
     "execution_count": 4,
     "metadata": {},
     "output_type": "execute_result"
    }
   ],
   "source": [
    "diamonds.head()"
   ]
  },
  {
   "cell_type": "code",
   "execution_count": 71,
   "metadata": {},
   "outputs": [
    {
     "data": {
      "text/plain": [
       "<matplotlib.axes._subplots.AxesSubplot at 0x1291c39d0>"
      ]
     },
     "execution_count": 71,
     "metadata": {},
     "output_type": "execute_result"
    },
    {
     "data": {
      "image/png": "[encoded data removed]",
      "text/plain": [
       "<Figure size 432x288 with 1 Axes>"
      ]
     },
     "metadata": {
      "needs_background": "light"
     },
     "output_type": "display_data"
    }
   ],
   "source": [
    "sns.distplot(diamonds.price)"
   ]
  },
  {
   "cell_type": "code",
   "execution_count": 21,
   "metadata": {},
   "outputs": [
    {
     "data": {
      "text/plain": [
       "array(['SI1', 'VS1', 'VS2', 'SI2', 'VVS2', 'VVS1', 'I1', 'IF'],\n",
       "      dtype=object)"
      ]
     },
     "execution_count": 21,
     "metadata": {},
     "output_type": "execute_result"
    }
   ],
   "source": [
    "diamonds['clarity'].unique()"
   ]
  },
  {
   "cell_type": "code",
   "execution_count": 22,
   "metadata": {},
   "outputs": [],
   "source": [
    "clarity_scale = {\n",
    "                'IF' : 10, 'VVS1' : 9, \n",
    "                'VVS2' : 8, 'VS1' : 7, \n",
    "                'VS2' : 6, 'SI1' : 5, \n",
    "                'SI2' : 4, 'I1' : 3, \n",
    "                'I2' : 2, 'I1' : 1\n",
    "                }"
   ]
  },
  {
   "cell_type": "code",
   "execution_count": 23,
   "metadata": {},
   "outputs": [
    {
     "data": {
      "text/plain": [
       "array(['Premium', 'Good', 'Very Good', 'Ideal', 'Fair'], dtype=object)"
      ]
     },
     "execution_count": 23,
     "metadata": {},
     "output_type": "execute_result"
    }
   ],
   "source": [
    "diamonds['cut'].unique()"
   ]
  },
  {
   "cell_type": "code",
   "execution_count": 24,
   "metadata": {},
   "outputs": [],
   "source": [
    "cut_scale = {\n",
    "            'Premium' : 5, \n",
    "            'Good' : 4, \n",
    "            'Very Good' : 3, \n",
    "            'Ideal' : 2, \n",
    "            'Fair' :1\n",
    "            }"
   ]
  },
  {
   "cell_type": "code",
   "execution_count": 26,
   "metadata": {},
   "outputs": [],
   "source": [
    "diamonds['clarity_scale'] = diamonds['clarity'].map(clarity_scale)\n",
    "diamonds['cut_scale'] = diamonds['cut'].map(cut_scale)"
   ]
  },
  {
   "cell_type": "code",
   "execution_count": 33,
   "metadata": {},
   "outputs": [
    {
     "data": {
      "text/html": [
       "<div>\n",
       "<style scoped>\n",
       "    .dataframe tbody tr th:only-of-type {\n",
       "        vertical-align: middle;\n",
       "    }\n",
       "\n",
       "    .dataframe tbody tr th {\n",
       "        vertical-align: top;\n",
       "    }\n",
       "\n",
       "    .dataframe thead th {\n",
       "        text-align: right;\n",
       "    }\n",
       "</style>\n",
       "<table border=\"1\" class=\"dataframe\">\n",
       "  <thead>\n",
       "    <tr style=\"text-align: right;\">\n",
       "      <th></th>\n",
       "      <th>carat</th>\n",
       "      <th>depth</th>\n",
       "      <th>table</th>\n",
       "      <th>price</th>\n",
       "      <th>x</th>\n",
       "      <th>y</th>\n",
       "      <th>z</th>\n",
       "      <th>clarity_scale</th>\n",
       "      <th>cut_scale</th>\n",
       "    </tr>\n",
       "  </thead>\n",
       "  <tbody>\n",
       "    <tr>\n",
       "      <th>carat</th>\n",
       "      <td>1.000000</td>\n",
       "      <td>0.053929</td>\n",
       "      <td>0.157311</td>\n",
       "      <td>0.874228</td>\n",
       "      <td>0.973271</td>\n",
       "      <td>0.972822</td>\n",
       "      <td>0.952797</td>\n",
       "      <td>-0.481569</td>\n",
       "      <td>0.115479</td>\n",
       "    </tr>\n",
       "    <tr>\n",
       "      <th>depth</th>\n",
       "      <td>0.053929</td>\n",
       "      <td>1.000000</td>\n",
       "      <td>-0.278467</td>\n",
       "      <td>0.003440</td>\n",
       "      <td>-0.054331</td>\n",
       "      <td>-0.060261</td>\n",
       "      <td>0.165965</td>\n",
       "      <td>-0.042824</td>\n",
       "      <td>-0.189175</td>\n",
       "    </tr>\n",
       "    <tr>\n",
       "      <th>table</th>\n",
       "      <td>0.157311</td>\n",
       "      <td>-0.278467</td>\n",
       "      <td>1.000000</td>\n",
       "      <td>0.101080</td>\n",
       "      <td>0.162385</td>\n",
       "      <td>0.153401</td>\n",
       "      <td>0.089611</td>\n",
       "      <td>-0.110059</td>\n",
       "      <td>0.376889</td>\n",
       "    </tr>\n",
       "    <tr>\n",
       "      <th>price</th>\n",
       "      <td>0.874228</td>\n",
       "      <td>0.003440</td>\n",
       "      <td>0.101080</td>\n",
       "      <td>1.000000</td>\n",
       "      <td>0.885561</td>\n",
       "      <td>0.893688</td>\n",
       "      <td>0.863258</td>\n",
       "      <td>-0.208091</td>\n",
       "      <td>0.077538</td>\n",
       "    </tr>\n",
       "    <tr>\n",
       "      <th>x</th>\n",
       "      <td>0.973271</td>\n",
       "      <td>-0.054331</td>\n",
       "      <td>0.162385</td>\n",
       "      <td>0.885561</td>\n",
       "      <td>1.000000</td>\n",
       "      <td>0.992923</td>\n",
       "      <td>0.954389</td>\n",
       "      <td>-0.436082</td>\n",
       "      <td>0.125298</td>\n",
       "    </tr>\n",
       "    <tr>\n",
       "      <th>y</th>\n",
       "      <td>0.972822</td>\n",
       "      <td>-0.060261</td>\n",
       "      <td>0.153401</td>\n",
       "      <td>0.893688</td>\n",
       "      <td>0.992923</td>\n",
       "      <td>1.000000</td>\n",
       "      <td>0.949712</td>\n",
       "      <td>-0.430389</td>\n",
       "      <td>0.106660</td>\n",
       "    </tr>\n",
       "    <tr>\n",
       "      <th>z</th>\n",
       "      <td>0.952797</td>\n",
       "      <td>0.165965</td>\n",
       "      <td>0.089611</td>\n",
       "      <td>0.863258</td>\n",
       "      <td>0.954389</td>\n",
       "      <td>0.949712</td>\n",
       "      <td>1.000000</td>\n",
       "      <td>-0.423857</td>\n",
       "      <td>0.066059</td>\n",
       "    </tr>\n",
       "    <tr>\n",
       "      <th>clarity_scale</th>\n",
       "      <td>-0.481569</td>\n",
       "      <td>-0.042824</td>\n",
       "      <td>-0.110059</td>\n",
       "      <td>-0.208091</td>\n",
       "      <td>-0.436082</td>\n",
       "      <td>-0.430389</td>\n",
       "      <td>-0.423857</td>\n",
       "      <td>1.000000</td>\n",
       "      <td>-0.103001</td>\n",
       "    </tr>\n",
       "    <tr>\n",
       "      <th>cut_scale</th>\n",
       "      <td>0.115479</td>\n",
       "      <td>-0.189175</td>\n",
       "      <td>0.376889</td>\n",
       "      <td>0.077538</td>\n",
       "      <td>0.125298</td>\n",
       "      <td>0.106660</td>\n",
       "      <td>0.066059</td>\n",
       "      <td>-0.103001</td>\n",
       "      <td>1.000000</td>\n",
       "    </tr>\n",
       "  </tbody>\n",
       "</table>\n",
       "</div>"
      ],
      "text/plain": [
       "                  carat     depth     table     price         x         y  \\\n",
       "carat          1.000000  0.053929  0.157311  0.874228  0.973271  0.972822   \n",
       "depth          0.053929  1.000000 -0.278467  0.003440 -0.054331 -0.060261   \n",
       "table          0.157311 -0.278467  1.000000  0.101080  0.162385  0.153401   \n",
       "price          0.874228  0.003440  0.101080  1.000000  0.885561  0.893688   \n",
       "x              0.973271 -0.054331  0.162385  0.885561  1.000000  0.992923   \n",
       "y              0.972822 -0.060261  0.153401  0.893688  0.992923  1.000000   \n",
       "z              0.952797  0.165965  0.089611  0.863258  0.954389  0.949712   \n",
       "clarity_scale -0.481569 -0.042824 -0.110059 -0.208091 -0.436082 -0.430389   \n",
       "cut_scale      0.115479 -0.189175  0.376889  0.077538  0.125298  0.106660   \n",
       "\n",
       "                      z  clarity_scale  cut_scale  \n",
       "carat          0.952797      -0.481569   0.115479  \n",
       "depth          0.165965      -0.042824  -0.189175  \n",
       "table          0.089611      -0.110059   0.376889  \n",
       "price          0.863258      -0.208091   0.077538  \n",
       "x              0.954389      -0.436082   0.125298  \n",
       "y              0.949712      -0.430389   0.106660  \n",
       "z              1.000000      -0.423857   0.066059  \n",
       "clarity_scale -0.423857       1.000000  -0.103001  \n",
       "cut_scale      0.066059      -0.103001   1.000000  "
      ]
     },
     "execution_count": 33,
     "metadata": {},
     "output_type": "execute_result"
    }
   ],
   "source": [
    "diamonds.corr()"
   ]
  },
  {
   "cell_type": "code",
   "execution_count": 44,
   "metadata": {},
   "outputs": [
    {
     "data": {
      "text/plain": [
       "count    13181.000000\n",
       "mean         0.895974\n",
       "std          0.256887\n",
       "min          0.200000\n",
       "25%          0.760000\n",
       "50%          0.960000\n",
       "75%          1.040000\n",
       "max          2.270000\n",
       "Name: carat, dtype: float64"
      ]
     },
     "execution_count": 44,
     "metadata": {},
     "output_type": "execute_result"
    }
   ],
   "source": [
    "diamonds['carat'].describe()"
   ]
  },
  {
   "cell_type": "code",
   "execution_count": 35,
   "metadata": {},
   "outputs": [
    {
     "data": {
      "text/plain": [
       "<matplotlib.axes._subplots.AxesSubplot at 0x128efe4d0>"
      ]
     },
     "execution_count": 35,
     "metadata": {},
     "output_type": "execute_result"
    },
    {
     "data": {
      "image/png": "[encoded data removed]",
      "text/plain": [
       "<Figure size 432x288 with 1 Axes>"
      ]
     },
     "metadata": {
      "needs_background": "light"
     },
     "output_type": "display_data"
    }
   ],
   "source": [
    "sns.distplot(diamonds.carat)"
   ]
  },
  {
   "cell_type": "code",
   "execution_count": 54,
   "metadata": {},
   "outputs": [],
   "source": [
    "carat_range = diamonds['carat'].describe()"
   ]
  },
  {
   "cell_type": "code",
   "execution_count": 82,
   "metadata": {},
   "outputs": [],
   "source": [
    "def caratrange(x):\n",
    "    \n",
    "    if x >= carat_range['min'] and x < carat_range['25%']:\n",
    "        return 'bucket_1'\n",
    "    elif x >= carat_range['25%'] and x < carat_range['50%']:\n",
    "        return 'bucket_2'\n",
    "    elif x >= carat_range['50%'] and x < carat_range['75%']:\n",
    "        return 'bucket_3'\n",
    "    elif x >= carat_range['75%'] and x <= carat_range['max']:\n",
    "        return 'bucket_4'\n",
    "    else:\n",
    "        return 'undefined'"
   ]
  },
  {
   "cell_type": "code",
   "execution_count": 83,
   "metadata": {},
   "outputs": [],
   "source": [
    "diamonds['carat_range'] = diamonds['carat'].apply(caratrange)"
   ]
  },
  {
   "cell_type": "code",
   "execution_count": 84,
   "metadata": {},
   "outputs": [
    {
     "data": {
      "text/plain": [
       "array(['bucket_1', 'bucket_2', 'bucket_3', 'bucket_4'], dtype=object)"
      ]
     },
     "execution_count": 84,
     "metadata": {},
     "output_type": "execute_result"
    }
   ],
   "source": [
    "diamonds['carat_range'].unique()"
   ]
  },
  {
   "cell_type": "code",
   "execution_count": 85,
   "metadata": {},
   "outputs": [],
   "source": [
    "price_estimate = diamonds.groupby(by='carat_range')['price'].agg(avg_price = 'mean').reset_index()"
   ]
  },
  {
   "cell_type": "code",
   "execution_count": 86,
   "metadata": {},
   "outputs": [
    {
     "data": {
      "text/html": [
       "<div>\n",
       "<style scoped>\n",
       "    .dataframe tbody tr th:only-of-type {\n",
       "        vertical-align: middle;\n",
       "    }\n",
       "\n",
       "    .dataframe tbody tr th {\n",
       "        vertical-align: top;\n",
       "    }\n",
       "\n",
       "    .dataframe thead th {\n",
       "        text-align: right;\n",
       "    }\n",
       "</style>\n",
       "<table border=\"1\" class=\"dataframe\">\n",
       "  <thead>\n",
       "    <tr style=\"text-align: right;\">\n",
       "      <th></th>\n",
       "      <th>carat_range</th>\n",
       "      <th>avg_price</th>\n",
       "    </tr>\n",
       "  </thead>\n",
       "  <tbody>\n",
       "    <tr>\n",
       "      <th>0</th>\n",
       "      <td>bucket_1</td>\n",
       "      <td>2119.582800</td>\n",
       "    </tr>\n",
       "    <tr>\n",
       "      <th>1</th>\n",
       "      <td>bucket_2</td>\n",
       "      <td>3776.626414</td>\n",
       "    </tr>\n",
       "    <tr>\n",
       "      <th>2</th>\n",
       "      <td>bucket_3</td>\n",
       "      <td>4533.250991</td>\n",
       "    </tr>\n",
       "    <tr>\n",
       "      <th>3</th>\n",
       "      <td>bucket_4</td>\n",
       "      <td>4857.400955</td>\n",
       "    </tr>\n",
       "  </tbody>\n",
       "</table>\n",
       "</div>"
      ],
      "text/plain": [
       "  carat_range    avg_price\n",
       "0    bucket_1  2119.582800\n",
       "1    bucket_2  3776.626414\n",
       "2    bucket_3  4533.250991\n",
       "3    bucket_4  4857.400955"
      ]
     },
     "execution_count": 86,
     "metadata": {},
     "output_type": "execute_result"
    }
   ],
   "source": [
    "price_estimate.head()"
   ]
  },
  {
   "cell_type": "code",
   "execution_count": 5,
   "metadata": {},
   "outputs": [],
   "source": [
    "rick_diamonds = pd.read_csv('../Data/rick_diamonds.csv')"
   ]
  },
  {
   "cell_type": "code",
   "execution_count": 88,
   "metadata": {},
   "outputs": [
    {
     "data": {
      "text/html": [
       "<div>\n",
       "<style scoped>\n",
       "    .dataframe tbody tr th:only-of-type {\n",
       "        vertical-align: middle;\n",
       "    }\n",
       "\n",
       "    .dataframe tbody tr th {\n",
       "        vertical-align: top;\n",
       "    }\n",
       "\n",
       "    .dataframe thead th {\n",
       "        text-align: right;\n",
       "    }\n",
       "</style>\n",
       "<table border=\"1\" class=\"dataframe\">\n",
       "  <thead>\n",
       "    <tr style=\"text-align: right;\">\n",
       "      <th></th>\n",
       "      <th>carat</th>\n",
       "      <th>cut</th>\n",
       "      <th>color</th>\n",
       "      <th>clarity</th>\n",
       "      <th>depth</th>\n",
       "      <th>table</th>\n",
       "      <th>x</th>\n",
       "      <th>y</th>\n",
       "      <th>z</th>\n",
       "    </tr>\n",
       "  </thead>\n",
       "  <tbody>\n",
       "    <tr>\n",
       "      <th>0</th>\n",
       "      <td>0.91</td>\n",
       "      <td>Very Good</td>\n",
       "      <td>H</td>\n",
       "      <td>SI2</td>\n",
       "      <td>63.4</td>\n",
       "      <td>57.0</td>\n",
       "      <td>6.10</td>\n",
       "      <td>6.18</td>\n",
       "      <td>3.89</td>\n",
       "    </tr>\n",
       "    <tr>\n",
       "      <th>1</th>\n",
       "      <td>0.38</td>\n",
       "      <td>Good</td>\n",
       "      <td>F</td>\n",
       "      <td>VS2</td>\n",
       "      <td>60.3</td>\n",
       "      <td>61.0</td>\n",
       "      <td>4.68</td>\n",
       "      <td>4.71</td>\n",
       "      <td>2.83</td>\n",
       "    </tr>\n",
       "    <tr>\n",
       "      <th>2</th>\n",
       "      <td>0.52</td>\n",
       "      <td>Ideal</td>\n",
       "      <td>H</td>\n",
       "      <td>VS2</td>\n",
       "      <td>61.8</td>\n",
       "      <td>56.0</td>\n",
       "      <td>5.19</td>\n",
       "      <td>5.16</td>\n",
       "      <td>3.20</td>\n",
       "    </tr>\n",
       "    <tr>\n",
       "      <th>3</th>\n",
       "      <td>1.10</td>\n",
       "      <td>Ideal</td>\n",
       "      <td>G</td>\n",
       "      <td>VS1</td>\n",
       "      <td>61.3</td>\n",
       "      <td>56.0</td>\n",
       "      <td>6.65</td>\n",
       "      <td>6.69</td>\n",
       "      <td>4.09</td>\n",
       "    </tr>\n",
       "    <tr>\n",
       "      <th>4</th>\n",
       "      <td>2.28</td>\n",
       "      <td>Ideal</td>\n",
       "      <td>G</td>\n",
       "      <td>SI2</td>\n",
       "      <td>61.6</td>\n",
       "      <td>57.0</td>\n",
       "      <td>8.44</td>\n",
       "      <td>8.37</td>\n",
       "      <td>5.18</td>\n",
       "    </tr>\n",
       "  </tbody>\n",
       "</table>\n",
       "</div>"
      ],
      "text/plain": [
       "   carat        cut color clarity  depth  table     x     y     z\n",
       "0   0.91  Very Good     H     SI2   63.4   57.0  6.10  6.18  3.89\n",
       "1   0.38       Good     F     VS2   60.3   61.0  4.68  4.71  2.83\n",
       "2   0.52      Ideal     H     VS2   61.8   56.0  5.19  5.16  3.20\n",
       "3   1.10      Ideal     G     VS1   61.3   56.0  6.65  6.69  4.09\n",
       "4   2.28      Ideal     G     SI2   61.6   57.0  8.44  8.37  5.18"
      ]
     },
     "execution_count": 88,
     "metadata": {},
     "output_type": "execute_result"
    }
   ],
   "source": [
    "rick_diamonds.head()"
   ]
  },
  {
   "cell_type": "code",
   "execution_count": 89,
   "metadata": {},
   "outputs": [],
   "source": [
    "rick_diamonds['carat_range'] = rick_diamonds['carat'].apply(caratrange)"
   ]
  },
  {
   "cell_type": "code",
   "execution_count": 93,
   "metadata": {},
   "outputs": [],
   "source": [
    "diamond_ballpark = pd.merge(rick_diamonds, price_estimate, on='carat_range')"
   ]
  },
  {
   "cell_type": "code",
   "execution_count": 95,
   "metadata": {},
   "outputs": [
    {
     "data": {
      "text/html": [
       "<div>\n",
       "<style scoped>\n",
       "    .dataframe tbody tr th:only-of-type {\n",
       "        vertical-align: middle;\n",
       "    }\n",
       "\n",
       "    .dataframe tbody tr th {\n",
       "        vertical-align: top;\n",
       "    }\n",
       "\n",
       "    .dataframe thead th {\n",
       "        text-align: right;\n",
       "    }\n",
       "</style>\n",
       "<table border=\"1\" class=\"dataframe\">\n",
       "  <thead>\n",
       "    <tr style=\"text-align: right;\">\n",
       "      <th></th>\n",
       "      <th>carat</th>\n",
       "      <th>cut</th>\n",
       "      <th>color</th>\n",
       "      <th>clarity</th>\n",
       "      <th>depth</th>\n",
       "      <th>table</th>\n",
       "      <th>x</th>\n",
       "      <th>y</th>\n",
       "      <th>z</th>\n",
       "      <th>carat_range</th>\n",
       "      <th>avg_price</th>\n",
       "    </tr>\n",
       "  </thead>\n",
       "  <tbody>\n",
       "    <tr>\n",
       "      <th>0</th>\n",
       "      <td>0.91</td>\n",
       "      <td>Very Good</td>\n",
       "      <td>H</td>\n",
       "      <td>SI2</td>\n",
       "      <td>63.4</td>\n",
       "      <td>57.0</td>\n",
       "      <td>6.10</td>\n",
       "      <td>6.18</td>\n",
       "      <td>3.89</td>\n",
       "      <td>bucket_2</td>\n",
       "      <td>3776.626414</td>\n",
       "    </tr>\n",
       "    <tr>\n",
       "      <th>1</th>\n",
       "      <td>0.92</td>\n",
       "      <td>Premium</td>\n",
       "      <td>F</td>\n",
       "      <td>SI1</td>\n",
       "      <td>61.8</td>\n",
       "      <td>59.0</td>\n",
       "      <td>6.21</td>\n",
       "      <td>6.25</td>\n",
       "      <td>3.85</td>\n",
       "      <td>bucket_2</td>\n",
       "      <td>3776.626414</td>\n",
       "    </tr>\n",
       "    <tr>\n",
       "      <th>2</th>\n",
       "      <td>0.87</td>\n",
       "      <td>Ideal</td>\n",
       "      <td>F</td>\n",
       "      <td>VS1</td>\n",
       "      <td>62.0</td>\n",
       "      <td>55.0</td>\n",
       "      <td>6.10</td>\n",
       "      <td>6.13</td>\n",
       "      <td>3.79</td>\n",
       "      <td>bucket_2</td>\n",
       "      <td>3776.626414</td>\n",
       "    </tr>\n",
       "    <tr>\n",
       "      <th>3</th>\n",
       "      <td>0.83</td>\n",
       "      <td>Ideal</td>\n",
       "      <td>D</td>\n",
       "      <td>SI2</td>\n",
       "      <td>62.1</td>\n",
       "      <td>56.0</td>\n",
       "      <td>6.00</td>\n",
       "      <td>6.04</td>\n",
       "      <td>3.74</td>\n",
       "      <td>bucket_2</td>\n",
       "      <td>3776.626414</td>\n",
       "    </tr>\n",
       "    <tr>\n",
       "      <th>4</th>\n",
       "      <td>0.94</td>\n",
       "      <td>Premium</td>\n",
       "      <td>E</td>\n",
       "      <td>SI2</td>\n",
       "      <td>60.4</td>\n",
       "      <td>59.0</td>\n",
       "      <td>6.37</td>\n",
       "      <td>6.34</td>\n",
       "      <td>3.84</td>\n",
       "      <td>bucket_2</td>\n",
       "      <td>3776.626414</td>\n",
       "    </tr>\n",
       "  </tbody>\n",
       "</table>\n",
       "</div>"
      ],
      "text/plain": [
       "   carat        cut color clarity  depth  table     x     y     z carat_range  \\\n",
       "0   0.91  Very Good     H     SI2   63.4   57.0  6.10  6.18  3.89    bucket_2   \n",
       "1   0.92    Premium     F     SI1   61.8   59.0  6.21  6.25  3.85    bucket_2   \n",
       "2   0.87      Ideal     F     VS1   62.0   55.0  6.10  6.13  3.79    bucket_2   \n",
       "3   0.83      Ideal     D     SI2   62.1   56.0  6.00  6.04  3.74    bucket_2   \n",
       "4   0.94    Premium     E     SI2   60.4   59.0  6.37  6.34  3.84    bucket_2   \n",
       "\n",
       "     avg_price  \n",
       "0  3776.626414  \n",
       "1  3776.626414  \n",
       "2  3776.626414  \n",
       "3  3776.626414  \n",
       "4  3776.626414  "
      ]
     },
     "execution_count": 95,
     "metadata": {},
     "output_type": "execute_result"
    }
   ],
   "source": [
    "diamond_ballpark.head()"
   ]
  }
 ],
 "metadata": {
  "kernelspec": {
   "display_name": "Python 3",
   "language": "python",
   "name": "python3"
  },
  "language_info": {
   "codemirror_mode": {
    "name": "ipython",
    "version": 3
   },
   "file_extension": ".py",
   "mimetype": "text/x-python",
   "name": "python",
   "nbconvert_exporter": "python",
   "pygments_lexer": "ipython3",
   "version": "3.7.6"
  }
 },
 "nbformat": 4,
 "nbformat_minor": 4
}
