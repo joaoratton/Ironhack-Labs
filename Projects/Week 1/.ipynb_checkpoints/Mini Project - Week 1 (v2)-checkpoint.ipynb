{
 "cells": [
  {
   "cell_type": "code",
   "execution_count": null,
   "metadata": {},
   "outputs": [],
   "source": [
    "class Question:\n",
    "    def __init__(self, prompt, answer):\n",
    "        self.prompt = prompt\n",
    "        self.answer = answer\n",
    "\n",
    "question_prompts = [\n",
    "    'The movie was directed by Brian de Palma and premiered in 1983. Al Pacino plays \\'Tony Montana\\', who arrives in 1980s Miami with nothing and rises to become a powerful drug lord. The movie was a major inspiration for the 2002 video game Grand Theft Auto Vice City.\\n\\n(a) Miami Vice\\n(b) Scarface\\n(c) Once Upon a Time in America\\n\\n',\n",
    "    '1972 crime film directed by Francis Coppola. The movie stars Marlon Brando and Al Pacino as the father and son of a New York gangster family. The movie was followed by two sequels in 1974 and 1990.\\n\\n(a) Donie Brasco\\n(b) The Untouchables\\n(c) The Godfather\\n\\n',\n",
    "    'Written by Seth Rogen and starring Jonah Hill and Michael Cera as Seth and Evan, the movie was released in 2007 and is considered one of the greatest comedies of the 21st Century.\\n\\n(a) Superbad\\n(b) Pineapple Express\\n(c) This Is the End\\n\\n',\n",
    "    'An erotic thriller premiered in 1999. It was Stanley Kubrick\\'s last production, the director died only 6 days after editing the final cut. In the movie Tom Cruise and Nicole Kidman played the couple Dr. Bill Harford and Alice Harford as they get involved in a series of sexually and jealousy charged adventures. At the time the couple was also married in real life.\\n\\n(a) Mulholland Drive\\n(b) Risky Business\\n(c) Eyes Wide Shut\\n\\n',\n",
    "    '1967 romantic comedy movie starred by Dustin Hoffman. The film tells the story of 21-year-old Benjamin Braddock who is seduced by an older woman, Mrs. Robinson, and then falls in love with her daughter Elaine. The film boosted the profile of folk-rock duo Simon & Garfunkel.\\n\\n(a) American Beauty \\n(b) Marathon Man\\n(c) The Graduate\\n\\n',\n",
    "]\n",
    "\n",
    "questions = [\n",
    "    Question(question_prompts[0], 'b'),\n",
    "    Question(question_prompts[1], 'c'),\n",
    "    Question(question_prompts[2], 'a'),\n",
    "    Question(question_prompts[3], 'c'),\n",
    "    Question(question_prompts[4], 'c'),\n",
    "]\n",
    "\n",
    "def run_test(questions):\n",
    "    score = 0\n",
    "    possible_answers = ['a', 'b', 'c']\n",
    "    \n",
    "    for i in questions:\n",
    "        answer = input(i.prompt)\n",
    "        if answer == i.answer:\n",
    "            score += 1\n",
    "\n",
    "        else: \n",
    "            while answer not in possible_answers:\n",
    "                print('Invalid answer! please try again')\n",
    "                answer = input(i.prompt)\n",
    "            if answer in possible_answers:\n",
    "                if answer == i.answer:\n",
    "                    score += 1\n",
    "\n",
    "    print('You got ' + str(score) + '/' + str(len(questions)) + ' correct')\n",
    "    print(\"\\N{clapper board}\")\n",
    "        \n",
    "run_test(questions)"
   ]
  }
 ],
 "metadata": {
  "kernelspec": {
   "display_name": "Python 3",
   "language": "python",
   "name": "python3"
  },
  "language_info": {
   "codemirror_mode": {
    "name": "ipython",
    "version": 3
   },
   "file_extension": ".py",
   "mimetype": "text/x-python",
   "name": "python",
   "nbconvert_exporter": "python",
   "pygments_lexer": "ipython3",
   "version": "3.7.6"
  }
 },
 "nbformat": 4,
 "nbformat_minor": 4
}
